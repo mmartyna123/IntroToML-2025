{
 "cells": [
  {
   "cell_type": "markdown",
   "metadata": {},
   "source": [
    "# Linear Regression\n",
    "Created by: Martyna Stasiak\n",
    "\n",
    "---"
   ]
  },
  {
   "cell_type": "markdown",
   "metadata": {},
   "source": [
    "To better understand the topic of regression, especially the linear regression that we will be practicing in here, go over the slides from fourth meeting about the Regression.<br>\n",
    "In here we will go through simple and multple linear regression, go over the metrics to check how well they perform and at the end you will have a short task to practice."
   ]
  },
  {
   "cell_type": "markdown",
   "metadata": {},
   "source": [
    "First lets load the neccesary libraries that we will use today:"
   ]
  },
  {
   "cell_type": "code",
   "execution_count": 1,
   "metadata": {},
   "outputs": [],
   "source": [
    "import numpy as np\n",
    "import pandas as pd\n",
    "import matplotlib.pyplot as plt\n",
    "import seaborn as sns # for data visualization\n",
    "from sklearn.model_selection import train_test_split # to split the data into two parts\n",
    "from sklearn.linear_model import LinearRegression # to apply the linear regression\n",
    "from sklearn.metrics import mean_squared_error, r2_score # to check the model performance\n",
    "import plotly.graph_objects as go #for 3d visualization in multiple lr\\import plotly.graph_objects as go\n",
    "\n"
   ]
  },
  {
   "cell_type": "markdown",
   "metadata": {},
   "source": [
    "## Simple linear regression"
   ]
  },
  {
   "cell_type": "markdown",
   "metadata": {},
   "source": [
    "Now lets load the dataset that we will use for the **Simple linear regression** for now; <br>\n",
    "it is a dataset about the sales, and we have 3 features in it- TV, Radio, Newspapper and a target variable- Sales.<br>\n",
    "So based on this data our goal is to make a model that predicts the sales based on the money spent on different marketing \"strategies\" i.e. that is our features- TV, Radio & Newspapper."
   ]
  },
  {
   "cell_type": "markdown",
   "metadata": {},
   "source": [
    "Make sure that you have downloaded the dataset- *advertising.csv* from the github repo with the notebook; <br>\n",
    "You may also download it directly from the kaggle webpage (you need to have the profile): https://www.kaggle.com/datasets/ashydv/advertising-dataset "
   ]
  },
  {
   "cell_type": "code",
   "execution_count": 2,
   "metadata": {},
   "outputs": [
    {
     "data": {
      "text/html": [
       "<div>\n",
       "<style scoped>\n",
       "    .dataframe tbody tr th:only-of-type {\n",
       "        vertical-align: middle;\n",
       "    }\n",
       "\n",
       "    .dataframe tbody tr th {\n",
       "        vertical-align: top;\n",
       "    }\n",
       "\n",
       "    .dataframe thead th {\n",
       "        text-align: right;\n",
       "    }\n",
       "</style>\n",
       "<table border=\"1\" class=\"dataframe\">\n",
       "  <thead>\n",
       "    <tr style=\"text-align: right;\">\n",
       "      <th></th>\n",
       "      <th>TV</th>\n",
       "      <th>Radio</th>\n",
       "      <th>Newspaper</th>\n",
       "      <th>Sales</th>\n",
       "    </tr>\n",
       "  </thead>\n",
       "  <tbody>\n",
       "    <tr>\n",
       "      <th>0</th>\n",
       "      <td>230.1</td>\n",
       "      <td>37.8</td>\n",
       "      <td>69.2</td>\n",
       "      <td>22.1</td>\n",
       "    </tr>\n",
       "    <tr>\n",
       "      <th>1</th>\n",
       "      <td>44.5</td>\n",
       "      <td>39.3</td>\n",
       "      <td>45.1</td>\n",
       "      <td>10.4</td>\n",
       "    </tr>\n",
       "    <tr>\n",
       "      <th>2</th>\n",
       "      <td>17.2</td>\n",
       "      <td>45.9</td>\n",
       "      <td>69.3</td>\n",
       "      <td>12.0</td>\n",
       "    </tr>\n",
       "    <tr>\n",
       "      <th>3</th>\n",
       "      <td>151.5</td>\n",
       "      <td>41.3</td>\n",
       "      <td>58.5</td>\n",
       "      <td>16.5</td>\n",
       "    </tr>\n",
       "    <tr>\n",
       "      <th>4</th>\n",
       "      <td>180.8</td>\n",
       "      <td>10.8</td>\n",
       "      <td>58.4</td>\n",
       "      <td>17.9</td>\n",
       "    </tr>\n",
       "  </tbody>\n",
       "</table>\n",
       "</div>"
      ],
      "text/plain": [
       "      TV  Radio  Newspaper  Sales\n",
       "0  230.1   37.8       69.2   22.1\n",
       "1   44.5   39.3       45.1   10.4\n",
       "2   17.2   45.9       69.3   12.0\n",
       "3  151.5   41.3       58.5   16.5\n",
       "4  180.8   10.8       58.4   17.9"
      ]
     },
     "execution_count": 2,
     "metadata": {},
     "output_type": "execute_result"
    }
   ],
   "source": [
    "data = pd.read_csv(\"advertising.csv\")\n",
    "data.head()"
   ]
  },
  {
   "cell_type": "code",
   "execution_count": 3,
   "metadata": {},
   "outputs": [
    {
     "data": {
      "text/plain": [
       "(200, 4)"
      ]
     },
     "execution_count": 3,
     "metadata": {},
     "output_type": "execute_result"
    }
   ],
   "source": [
    "data.shape"
   ]
  },
  {
   "cell_type": "code",
   "execution_count": 4,
   "metadata": {},
   "outputs": [
    {
     "name": "stdout",
     "output_type": "stream",
     "text": [
      "TV           0\n",
      "Radio        0\n",
      "Newspaper    0\n",
      "Sales        0\n",
      "dtype: int64\n"
     ]
    }
   ],
   "source": [
    "missing_values = data.isnull().sum()\n",
    "print(missing_values)"
   ]
  },
  {
   "cell_type": "markdown",
   "metadata": {},
   "source": [
    "Now that we have the data loaded and we have checked that there are no missing values, let's visualize the correlation between the features using a heatmap. This will help us understand which features have the strongest relationship with our target variable, Sales. By identifying these relationships, we can make more informed decisions when building our linear regression model.Now when we have the data loaded, and we know which one has the biggest influence on our target variable so we can make a good linear regression."
   ]
  },
  {
   "cell_type": "code",
   "execution_count": 5,
   "metadata": {},
   "outputs": [
    {
     "data": {
      "image/png": "[encoded data removed]",
      "text/plain": [
       "<Figure size 500x400 with 2 Axes>"
      ]
     },
     "metadata": {},
     "output_type": "display_data"
    }
   ],
   "source": [
    "plt.figure(figsize=(5, 4))\n",
    "sns.heatmap(data.corr(), annot=True, cmap='coolwarm')\n",
    "plt.show()"
   ]
  },
  {
   "cell_type": "markdown",
   "metadata": {},
   "source": [
    "\n",
    "The heatmap results indicate the following correlations between the variables:\n",
    " \n",
    "- `Sales and TV` have the `highest correlation of 0.9`, suggesting a strong positive relationship. This implies that as TV advertising increases, sales tend to increase significantly.\n",
    "- `Sales and Radio` have a moderate correlation of 0.35, indicating a weaker positive relationship compared to TV. This suggests that radio advertising has a smaller impact on sales.\n",
    "- `Sales and Newspaper` have a low correlation of 0.16, indicating a very weak positive relationship. This suggests that newspaper advertising has minimal impact on sales.\n",
    "\n",
    "Additionally, the diagonal of the heatmap contains ones because each variable is being compared with itself, resulting in a perfect correlation. <br><br>\n",
    "\n",
    "Since the `TV` and `Sales` variables have the highest correlation (0.9), we will use `TV` as the predictor in our simple linear regression model. This strong positive relationship suggests that as TV advertising increases, sales tend to increase significantly. By focusing on `TV` as our feature, we aim to build a model that accurately predicts sales based on TV advertising spend. This approach allows us to understand the impact of TV advertising on sales and make informed decisions for future marketing strategies.\n",
    "\n",
    "-----\n"
   ]
  },
  {
   "cell_type": "markdown",
   "metadata": {},
   "source": [
    "Now we will be splitting the dataset into training and testing sets. This step is crucial for evaluating the performance of our linear regression model. By dividing the data, we can train the model on one portion (training set) and test it on the other (testing set). This helps us understand how well our model generalizes to unseen data and ensures that it is not overfitting to the training data. The training set will be used to fit the model, while the testing set will be used to evaluate its performance."
   ]
  },
  {
   "cell_type": "code",
   "execution_count": 6,
   "metadata": {},
   "outputs": [],
   "source": [
    "X = data[['TV']]  # Using only 'TV' as the feature for simple linear regression\n",
    "y = data['Sales']\n",
    "X_train, X_test, y_train, y_test = train_test_split(X, y, train_size=0.7, test_size=0.3, random_state=100)"
   ]
  },
  {
   "cell_type": "code",
   "execution_count": 7,
   "metadata": {},
   "outputs": [
    {
     "data": {
      "text/plain": [
       "<matplotlib.collections.PathCollection at 0x1cf914d88b0>"
      ]
     },
     "execution_count": 7,
     "metadata": {},
     "output_type": "execute_result"
    },
    {
     "data": {
      "image/png": "[encoded data removed]",
      "text/plain": [
       "<Figure size 640x480 with 1 Axes>"
      ]
     },
     "metadata": {},
     "output_type": "display_data"
    }
   ],
   "source": [
    "# we may see how the data looks now:\n",
    "plt.scatter(X_train, y_train)"
   ]
  },
  {
   "cell_type": "markdown",
   "metadata": {},
   "source": [
    "Now let's actually train our linear regression model. For that, we will use the `LinearRegression()` method from the `sklearn.linear_model` library. This method will help us create a linear regression model that can be trained on our dataset. By fitting the model to our training data, we can learn the relationship between the feature (TV advertising spend) and the target variable (Sales). Once the model is trained, we will evaluate its performance on both the training and testing sets to understand how well it generalizes to unseen data."
   ]
  },
  {
   "cell_type": "code",
   "execution_count": 8,
   "metadata": {},
   "outputs": [
    {
     "data": {
      "text/html": [
       "<style>#sk-container-id-1 {\n",
       "  /* Definition of color scheme common for light and dark mode */\n",
       "  --sklearn-color-text: black;\n",
       "  --sklearn-color-line: gray;\n",
       "  /* Definition of color scheme for unfitted estimators */\n",
       "  --sklearn-color-unfitted-level-0: #fff5e6;\n",
       "  --sklearn-color-unfitted-level-1: #f6e4d2;\n",
       "  --sklearn-color-unfitted-level-2: #ffe0b3;\n",
       "  --sklearn-color-unfitted-level-3: chocolate;\n",
       "  /* Definition of color scheme for fitted estimators */\n",
       "  --sklearn-color-fitted-level-0: #f0f8ff;\n",
       "  --sklearn-color-fitted-level-1: #d4ebff;\n",
       "  --sklearn-color-fitted-level-2: #b3dbfd;\n",
       "  --sklearn-color-fitted-level-3: cornflowerblue;\n",
       "\n",
       "  /* Specific color for light theme */\n",
       "  --sklearn-color-text-on-default-background: var(--sg-text-color, var(--theme-code-foreground, var(--jp-content-font-color1, black)));\n",
       "  --sklearn-color-background: var(--sg-background-color, var(--theme-background, var(--jp-layout-color0, white)));\n",
       "  --sklearn-color-border-box: var(--sg-text-color, var(--theme-code-foreground, var(--jp-content-font-color1, black)));\n",
       "  --sklearn-color-icon: #696969;\n",
       "\n",
       "  @media (prefers-color-scheme: dark) {\n",
       "    /* Redefinition of color scheme for dark theme */\n",
       "    --sklearn-color-text-on-default-background: var(--sg-text-color, var(--theme-code-foreground, var(--jp-content-font-color1, white)));\n",
       "    --sklearn-color-background: var(--sg-background-color, var(--theme-background, var(--jp-layout-color0, #111)));\n",
       "    --sklearn-color-border-box: var(--sg-text-color, var(--theme-code-foreground, var(--jp-content-font-color1, white)));\n",
       "    --sklearn-color-icon: #878787;\n",
       "  }\n",
       "}\n",
       "\n",
       "#sk-container-id-1 {\n",
       "  color: var(--sklearn-color-text);\n",
       "}\n",
       "\n",
       "#sk-container-id-1 pre {\n",
       "  padding: 0;\n",
       "}\n",
       "\n",
       "#sk-container-id-1 input.sk-hidden--visually {\n",
       "  border: 0;\n",
       "  clip: rect(1px 1px 1px 1px);\n",
       "  clip: rect(1px, 1px, 1px, 1px);\n",
       "  height: 1px;\n",
       "  margin: -1px;\n",
       "  overflow: hidden;\n",
       "  padding: 0;\n",
       "  position: absolute;\n",
       "  width: 1px;\n",
       "}\n",
       "\n",
       "#sk-container-id-1 div.sk-dashed-wrapped {\n",
       "  border: 1px dashed var(--sklearn-color-line);\n",
       "  margin: 0 0.4em 0.5em 0.4em;\n",
       "  box-sizing: border-box;\n",
       "  padding-bottom: 0.4em;\n",
       "  background-color: var(--sklearn-color-background);\n",
       "}\n",
       "\n",
       "#sk-container-id-1 div.sk-container {\n",
       "  /* jupyter's `normalize.less` sets `[hidden] { display: none; }`\n",
       "     but bootstrap.min.css set `[hidden] { display: none !important; }`\n",
       "     so we also need the `!important` here to be able to override the\n",
       "     default hidden behavior on the sphinx rendered scikit-learn.org.\n",
       "     See: https://github.com/scikit-learn/scikit-learn/issues/21755 */\n",
       "  display: inline-block !important;\n",
       "  position: relative;\n",
       "}\n",
       "\n",
       "#sk-container-id-1 div.sk-text-repr-fallback {\n",
       "  display: none;\n",
       "}\n",
       "\n",
       "div.sk-parallel-item,\n",
       "div.sk-serial,\n",
       "div.sk-item {\n",
       "  /* draw centered vertical line to link estimators */\n",
       "  background-image: linear-gradient(var(--sklearn-color-text-on-default-background), var(--sklearn-color-text-on-default-background));\n",
       "  background-size: 2px 100%;\n",
       "  background-repeat: no-repeat;\n",
       "  background-position: center center;\n",
       "}\n",
       "\n",
       "/* Parallel-specific style estimator block */\n",
       "\n",
       "#sk-container-id-1 div.sk-parallel-item::after {\n",
       "  content: \"\";\n",
       "  width: 100%;\n",
       "  border-bottom: 2px solid var(--sklearn-color-text-on-default-background);\n",
       "  flex-grow: 1;\n",
       "}\n",
       "\n",
       "#sk-container-id-1 div.sk-parallel {\n",
       "  display: flex;\n",
       "  align-items: stretch;\n",
       "  justify-content: center;\n",
       "  background-color: var(--sklearn-color-background);\n",
       "  position: relative;\n",
       "}\n",
       "\n",
       "#sk-container-id-1 div.sk-parallel-item {\n",
       "  display: flex;\n",
       "  flex-direction: column;\n",
       "}\n",
       "\n",
       "#sk-container-id-1 div.sk-parallel-item:first-child::after {\n",
       "  align-self: flex-end;\n",
       "  width: 50%;\n",
       "}\n",
       "\n",
       "#sk-container-id-1 div.sk-parallel-item:last-child::after {\n",
       "  align-self: flex-start;\n",
       "  width: 50%;\n",
       "}\n",
       "\n",
       "#sk-container-id-1 div.sk-parallel-item:only-child::after {\n",
       "  width: 0;\n",
       "}\n",
       "\n",
       "/* Serial-specific style estimator block */\n",
       "\n",
       "#sk-container-id-1 div.sk-serial {\n",
       "  display: flex;\n",
       "  flex-direction: column;\n",
       "  align-items: center;\n",
       "  background-color: var(--sklearn-color-background);\n",
       "  padding-right: 1em;\n",
       "  padding-left: 1em;\n",
       "}\n",
       "\n",
       "\n",
       "/* Toggleable style: style used for estimator/Pipeline/ColumnTransformer box that is\n",
       "clickable and can be expanded/collapsed.\n",
       "- Pipeline and ColumnTransformer use this feature and define the default style\n",
       "- Estimators will overwrite some part of the style using the `sk-estimator` class\n",
       "*/\n",
       "\n",
       "/* Pipeline and ColumnTransformer style (default) */\n",
       "\n",
       "#sk-container-id-1 div.sk-toggleable {\n",
       "  /* Default theme specific background. It is overwritten whether we have a\n",
       "  specific estimator or a Pipeline/ColumnTransformer */\n",
       "  background-color: var(--sklearn-color-background);\n",
       "}\n",
       "\n",
       "/* Toggleable label */\n",
       "#sk-container-id-1 label.sk-toggleable__label {\n",
       "  cursor: pointer;\n",
       "  display: block;\n",
       "  width: 100%;\n",
       "  margin-bottom: 0;\n",
       "  padding: 0.5em;\n",
       "  box-sizing: border-box;\n",
       "  text-align: center;\n",
       "}\n",
       "\n",
       "#sk-container-id-1 label.sk-toggleable__label-arrow:before {\n",
       "  /* Arrow on the left of the label */\n",
       "  content: \"▸\";\n",
       "  float: left;\n",
       "  margin-right: 0.25em;\n",
       "  color: var(--sklearn-color-icon);\n",
       "}\n",
       "\n",
       "#sk-container-id-1 label.sk-toggleable__label-arrow:hover:before {\n",
       "  color: var(--sklearn-color-text);\n",
       "}\n",
       "\n",
       "/* Toggleable content - dropdown */\n",
       "\n",
       "#sk-container-id-1 div.sk-toggleable__content {\n",
       "  max-height: 0;\n",
       "  max-width: 0;\n",
       "  overflow: hidden;\n",
       "  text-align: left;\n",
       "  /* unfitted */\n",
       "  background-color: var(--sklearn-color-unfitted-level-0);\n",
       "}\n",
       "\n",
       "#sk-container-id-1 div.sk-toggleable__content.fitted {\n",
       "  /* fitted */\n",
       "  background-color: var(--sklearn-color-fitted-level-0);\n",
       "}\n",
       "\n",
       "#sk-container-id-1 div.sk-toggleable__content pre {\n",
       "  margin: 0.2em;\n",
       "  border-radius: 0.25em;\n",
       "  color: var(--sklearn-color-text);\n",
       "  /* unfitted */\n",
       "  background-color: var(--sklearn-color-unfitted-level-0);\n",
       "}\n",
       "\n",
       "#sk-container-id-1 div.sk-toggleable__content.fitted pre {\n",
       "  /* unfitted */\n",
       "  background-color: var(--sklearn-color-fitted-level-0);\n",
       "}\n",
       "\n",
       "#sk-container-id-1 input.sk-toggleable__control:checked~div.sk-toggleable__content {\n",
       "  /* Expand drop-down */\n",
       "  max-height: 200px;\n",
       "  max-width: 100%;\n",
       "  overflow: auto;\n",
       "}\n",
       "\n",
       "#sk-container-id-1 input.sk-toggleable__control:checked~label.sk-toggleable__label-arrow:before {\n",
       "  content: \"▾\";\n",
       "}\n",
       "\n",
       "/* Pipeline/ColumnTransformer-specific style */\n",
       "\n",
       "#sk-container-id-1 div.sk-label input.sk-toggleable__control:checked~label.sk-toggleable__label {\n",
       "  color: var(--sklearn-color-text);\n",
       "  background-color: var(--sklearn-color-unfitted-level-2);\n",
       "}\n",
       "\n",
       "#sk-container-id-1 div.sk-label.fitted input.sk-toggleable__control:checked~label.sk-toggleable__label {\n",
       "  background-color: var(--sklearn-color-fitted-level-2);\n",
       "}\n",
       "\n",
       "/* Estimator-specific style */\n",
       "\n",
       "/* Colorize estimator box */\n",
       "#sk-container-id-1 div.sk-estimator input.sk-toggleable__control:checked~label.sk-toggleable__label {\n",
       "  /* unfitted */\n",
       "  background-color: var(--sklearn-color-unfitted-level-2);\n",
       "}\n",
       "\n",
       "#sk-container-id-1 div.sk-estimator.fitted input.sk-toggleable__control:checked~label.sk-toggleable__label {\n",
       "  /* fitted */\n",
       "  background-color: var(--sklearn-color-fitted-level-2);\n",
       "}\n",
       "\n",
       "#sk-container-id-1 div.sk-label label.sk-toggleable__label,\n",
       "#sk-container-id-1 div.sk-label label {\n",
       "  /* The background is the default theme color */\n",
       "  color: var(--sklearn-color-text-on-default-background);\n",
       "}\n",
       "\n",
       "/* On hover, darken the color of the background */\n",
       "#sk-container-id-1 div.sk-label:hover label.sk-toggleable__label {\n",
       "  color: var(--sklearn-color-text);\n",
       "  background-color: var(--sklearn-color-unfitted-level-2);\n",
       "}\n",
       "\n",
       "/* Label box, darken color on hover, fitted */\n",
       "#sk-container-id-1 div.sk-label.fitted:hover label.sk-toggleable__label.fitted {\n",
       "  color: var(--sklearn-color-text);\n",
       "  background-color: var(--sklearn-color-fitted-level-2);\n",
       "}\n",
       "\n",
       "/* Estimator label */\n",
       "\n",
       "#sk-container-id-1 div.sk-label label {\n",
       "  font-family: monospace;\n",
       "  font-weight: bold;\n",
       "  display: inline-block;\n",
       "  line-height: 1.2em;\n",
       "}\n",
       "\n",
       "#sk-container-id-1 div.sk-label-container {\n",
       "  text-align: center;\n",
       "}\n",
       "\n",
       "/* Estimator-specific */\n",
       "#sk-container-id-1 div.sk-estimator {\n",
       "  font-family: monospace;\n",
       "  border: 1px dotted var(--sklearn-color-border-box);\n",
       "  border-radius: 0.25em;\n",
       "  box-sizing: border-box;\n",
       "  margin-bottom: 0.5em;\n",
       "  /* unfitted */\n",
       "  background-color: var(--sklearn-color-unfitted-level-0);\n",
       "}\n",
       "\n",
       "#sk-container-id-1 div.sk-estimator.fitted {\n",
       "  /* fitted */\n",
       "  background-color: var(--sklearn-color-fitted-level-0);\n",
       "}\n",
       "\n",
       "/* on hover */\n",
       "#sk-container-id-1 div.sk-estimator:hover {\n",
       "  /* unfitted */\n",
       "  background-color: var(--sklearn-color-unfitted-level-2);\n",
       "}\n",
       "\n",
       "#sk-container-id-1 div.sk-estimator.fitted:hover {\n",
       "  /* fitted */\n",
       "  background-color: var(--sklearn-color-fitted-level-2);\n",
       "}\n",
       "\n",
       "/* Specification for estimator info (e.g. \"i\" and \"?\") */\n",
       "\n",
       "/* Common style for \"i\" and \"?\" */\n",
       "\n",
       ".sk-estimator-doc-link,\n",
       "a:link.sk-estimator-doc-link,\n",
       "a:visited.sk-estimator-doc-link {\n",
       "  float: right;\n",
       "  font-size: smaller;\n",
       "  line-height: 1em;\n",
       "  font-family: monospace;\n",
       "  background-color: var(--sklearn-color-background);\n",
       "  border-radius: 1em;\n",
       "  height: 1em;\n",
       "  width: 1em;\n",
       "  text-decoration: none !important;\n",
       "  margin-left: 1ex;\n",
       "  /* unfitted */\n",
       "  border: var(--sklearn-color-unfitted-level-1) 1pt solid;\n",
       "  color: var(--sklearn-color-unfitted-level-1);\n",
       "}\n",
       "\n",
       ".sk-estimator-doc-link.fitted,\n",
       "a:link.sk-estimator-doc-link.fitted,\n",
       "a:visited.sk-estimator-doc-link.fitted {\n",
       "  /* fitted */\n",
       "  border: var(--sklearn-color-fitted-level-1) 1pt solid;\n",
       "  color: var(--sklearn-color-fitted-level-1);\n",
       "}\n",
       "\n",
       "/* On hover */\n",
       "div.sk-estimator:hover .sk-estimator-doc-link:hover,\n",
       ".sk-estimator-doc-link:hover,\n",
       "div.sk-label-container:hover .sk-estimator-doc-link:hover,\n",
       ".sk-estimator-doc-link:hover {\n",
       "  /* unfitted */\n",
       "  background-color: var(--sklearn-color-unfitted-level-3);\n",
       "  color: var(--sklearn-color-background);\n",
       "  text-decoration: none;\n",
       "}\n",
       "\n",
       "div.sk-estimator.fitted:hover .sk-estimator-doc-link.fitted:hover,\n",
       ".sk-estimator-doc-link.fitted:hover,\n",
       "div.sk-label-container:hover .sk-estimator-doc-link.fitted:hover,\n",
       ".sk-estimator-doc-link.fitted:hover {\n",
       "  /* fitted */\n",
       "  background-color: var(--sklearn-color-fitted-level-3);\n",
       "  color: var(--sklearn-color-background);\n",
       "  text-decoration: none;\n",
       "}\n",
       "\n",
       "/* Span, style for the box shown on hovering the info icon */\n",
       ".sk-estimator-doc-link span {\n",
       "  display: none;\n",
       "  z-index: 9999;\n",
       "  position: relative;\n",
       "  font-weight: normal;\n",
       "  right: .2ex;\n",
       "  padding: .5ex;\n",
       "  margin: .5ex;\n",
       "  width: min-content;\n",
       "  min-width: 20ex;\n",
       "  max-width: 50ex;\n",
       "  color: var(--sklearn-color-text);\n",
       "  box-shadow: 2pt 2pt 4pt #999;\n",
       "  /* unfitted */\n",
       "  background: var(--sklearn-color-unfitted-level-0);\n",
       "  border: .5pt solid var(--sklearn-color-unfitted-level-3);\n",
       "}\n",
       "\n",
       ".sk-estimator-doc-link.fitted span {\n",
       "  /* fitted */\n",
       "  background: var(--sklearn-color-fitted-level-0);\n",
       "  border: var(--sklearn-color-fitted-level-3);\n",
       "}\n",
       "\n",
       ".sk-estimator-doc-link:hover span {\n",
       "  display: block;\n",
       "}\n",
       "\n",
       "/* \"?\"-specific style due to the `<a>` HTML tag */\n",
       "\n",
       "#sk-container-id-1 a.estimator_doc_link {\n",
       "  float: right;\n",
       "  font-size: 1rem;\n",
       "  line-height: 1em;\n",
       "  font-family: monospace;\n",
       "  background-color: var(--sklearn-color-background);\n",
       "  border-radius: 1rem;\n",
       "  height: 1rem;\n",
       "  width: 1rem;\n",
       "  text-decoration: none;\n",
       "  /* unfitted */\n",
       "  color: var(--sklearn-color-unfitted-level-1);\n",
       "  border: var(--sklearn-color-unfitted-level-1) 1pt solid;\n",
       "}\n",
       "\n",
       "#sk-container-id-1 a.estimator_doc_link.fitted {\n",
       "  /* fitted */\n",
       "  border: var(--sklearn-color-fitted-level-1) 1pt solid;\n",
       "  color: var(--sklearn-color-fitted-level-1);\n",
       "}\n",
       "\n",
       "/* On hover */\n",
       "#sk-container-id-1 a.estimator_doc_link:hover {\n",
       "  /* unfitted */\n",
       "  background-color: var(--sklearn-color-unfitted-level-3);\n",
       "  color: var(--sklearn-color-background);\n",
       "  text-decoration: none;\n",
       "}\n",
       "\n",
       "#sk-container-id-1 a.estimator_doc_link.fitted:hover {\n",
       "  /* fitted */\n",
       "  background-color: var(--sklearn-color-fitted-level-3);\n",
       "}\n",
       "</style><div id=\"sk-container-id-1\" class=\"sk-top-container\"><div class=\"sk-text-repr-fallback\"><pre>LinearRegression()</pre><b>In a Jupyter environment, please rerun this cell to show the HTML representation or trust the notebook. <br />On GitHub, the HTML representation is unable to render, please try loading this page with nbviewer.org.</b></div><div class=\"sk-container\" hidden><div class=\"sk-item\"><div class=\"sk-estimator fitted sk-toggleable\"><input class=\"sk-toggleable__control sk-hidden--visually\" id=\"sk-estimator-id-1\" type=\"checkbox\" checked><label for=\"sk-estimator-id-1\" class=\"sk-toggleable__label fitted sk-toggleable__label-arrow fitted\">&nbsp;&nbsp;LinearRegression<a class=\"sk-estimator-doc-link fitted\" rel=\"noreferrer\" target=\"_blank\" href=\"https://scikit-learn.org/1.5/modules/generated/sklearn.linear_model.LinearRegression.html\">?<span>Documentation for LinearRegression</span></a><span class=\"sk-estimator-doc-link fitted\">i<span>Fitted</span></span></label><div class=\"sk-toggleable__content fitted\"><pre>LinearRegression()</pre></div> </div></div></div></div>"
      ],
      "text/plain": [
       "LinearRegression()"
      ]
     },
     "execution_count": 8,
     "metadata": {},
     "output_type": "execute_result"
    }
   ],
   "source": [
    "simpleLR_model = LinearRegression() \n",
    "simpleLR_model.fit(X_train, y_train) # training the model"
   ]
  },
  {
   "cell_type": "code",
   "execution_count": 9,
   "metadata": {},
   "outputs": [],
   "source": [
    "#now we evaluate the model\n",
    "y_train_pred = simpleLR_model.predict(X_train)"
   ]
  },
  {
   "cell_type": "code",
   "execution_count": 10,
   "metadata": {},
   "outputs": [
    {
     "name": "stdout",
     "output_type": "stream",
     "text": [
      "Intercept (beta_0): 6.948683200001357\n",
      "Coefficient for TV (beta_1): 0.054545752915907963\n"
     ]
    }
   ],
   "source": [
    "# To get the coefficient- Betas from the linear regression formula we may use: \n",
    "beta_0 = simpleLR_model.intercept_\n",
    "beta_1 = simpleLR_model.coef_[0]\n",
    "\n",
    "print(f\"Intercept (beta_0): {beta_0}\")\n",
    "print(f\"Coefficient for TV (beta_1): {beta_1}\")"
   ]
  },
  {
   "cell_type": "code",
   "execution_count": 11,
   "metadata": {},
   "outputs": [
    {
     "data": {
      "image/png": "[encoded data removed]",
      "text/plain": [
       "<Figure size 800x400 with 1 Axes>"
      ]
     },
     "metadata": {},
     "output_type": "display_data"
    }
   ],
   "source": [
    "plt.figure(figsize=(8, 4))\n",
    "plt.scatter(X_train, y_train, color='blue', label='Training data')\n",
    "plt.plot(X_train, y_train_pred, color='red', linewidth=2, label='Regression line')\n",
    "plt.xlabel('TV Advertising Spend')\n",
    "plt.ylabel('Sales')\n",
    "plt.legend()\n",
    "plt.title('Linear Regression on Training Set')\n",
    "plt.show()"
   ]
  },
  {
   "cell_type": "markdown",
   "metadata": {},
   "source": [
    "Now let's see how well our model performs using Mean Squared Error (MSE) and R-squared (R²) metrics. \n",
    "\n",
    "- **Mean Squared Error (MSE)**: This metric measures the average of the squares of the errors—that is, the average squared difference between the actual and predicted values. A lower MSE indicates a better fit of the model to the data.\n",
    "\n",
    "- **R-squared (R²)**: This metric represents the proportion of the variance in the dependent variable that is predictable from the independent variable(s). An R² value closer to 1 indicates that a larger proportion of the variance is accounted for by the model, suggesting a better fit.\n",
    "\n",
    "By evaluating these metrics on both the training and testing sets, we can understand how well our model generalizes to unseen data and ensure that it is not overfitting to the training data."
   ]
  },
  {
   "cell_type": "code",
   "execution_count": 12,
   "metadata": {},
   "outputs": [
    {
     "name": "stdout",
     "output_type": "stream",
     "text": [
      "Training MSE: 5.752400386486835\n",
      "Training R2: 0.8157933136480389\n"
     ]
    }
   ],
   "source": [
    "train_mse = mean_squared_error(y_train, y_train_pred)\n",
    "train_r2 = r2_score(y_train, y_train_pred)\n",
    "print(f\"Training MSE: {train_mse}\")\n",
    "print(f\"Training R2: {train_r2}\")"
   ]
  },
  {
   "cell_type": "code",
   "execution_count": 13,
   "metadata": {},
   "outputs": [],
   "source": [
    "# now we evaluate the model on the test set\n",
    "y_test_pred = simpleLR_model.predict(X_test)"
   ]
  },
  {
   "cell_type": "code",
   "execution_count": 14,
   "metadata": {},
   "outputs": [
    {
     "name": "stdout",
     "output_type": "stream",
     "text": [
      "Testing MSE: 4.077556371826948\n",
      "Testing R2: 0.7921031601245662\n"
     ]
    }
   ],
   "source": [
    "# now we check the evaluation/performance metrics on the test set \n",
    "test_mse = mean_squared_error(y_test, y_test_pred)\n",
    "test_r2 = r2_score(y_test, y_test_pred)\n",
    "print(f\"Testing MSE: {test_mse}\")\n",
    "print(f\"Testing R2: {test_r2}\")"
   ]
  },
  {
   "cell_type": "code",
   "execution_count": 15,
   "metadata": {},
   "outputs": [
    {
     "data": {
      "image/png": "[encoded data removed]",
      "text/plain": [
       "<Figure size 800x400 with 1 Axes>"
      ]
     },
     "metadata": {},
     "output_type": "display_data"
    }
   ],
   "source": [
    "# now we plot the regression line on the test set\n",
    "plt.figure(figsize=(8, 4))\n",
    "plt.scatter(X_test, y_test, color='hotpink', label='Testing data')\n",
    "plt.plot(X_test, y_test_pred, color='red', linewidth=2, label='Regression line')\n",
    "plt.xlabel('TV Advertising Spend')\n",
    "plt.ylabel('Sales')\n",
    "plt.legend()\n",
    "plt.title('Linear Regression on Testing Set')\n",
    "plt.show()"
   ]
  },
  {
   "cell_type": "code",
   "execution_count": 16,
   "metadata": {},
   "outputs": [
    {
     "data": {
      "image/png": "[encoded data removed]",
      "text/plain": [
       "<Figure size 800x400 with 1 Axes>"
      ]
     },
     "metadata": {},
     "output_type": "display_data"
    }
   ],
   "source": [
    "#and now lets see the training set and test set on the same plot\n",
    "plt.figure(figsize=(8, 4))\n",
    "plt.scatter(X_train, y_train, color='blue', label='Training data')\n",
    "plt.scatter(X_test, y_test, color='hotpink', label='Testing data')\n",
    "plt.plot(X_train, y_train_pred, color='red', linewidth=2, label='Regression line')\n",
    "plt.xlabel('TV Advertising Spend')\n",
    "plt.ylabel('Sales')\n",
    "plt.legend()\n",
    "plt.title('Linear Regression on Training and Testing Set')\n",
    "plt.show()"
   ]
  },
  {
   "cell_type": "code",
   "execution_count": 17,
   "metadata": {},
   "outputs": [
    {
     "data": {
      "image/png": "[encoded data removed]",
      "text/plain": [
       "<Figure size 1500x500 with 2 Axes>"
      ]
     },
     "metadata": {},
     "output_type": "display_data"
    },
    {
     "data": {
      "image/png": "[encoded data removed]",
      "text/plain": [
       "<Figure size 800x400 with 1 Axes>"
      ]
     },
     "metadata": {},
     "output_type": "display_data"
    }
   ],
   "source": [
    "# and also lets see the plots next to each other\n",
    "fig, (ax1, ax2) = plt.subplots(1, 2, figsize=(15, 5))\n",
    "ax1.scatter(X_train, y_train, color='blue', label='Training data')\n",
    "ax1.plot(X_train, y_train_pred, color='red', linewidth=2, label='Regression line')\n",
    "ax1.set_xlabel('TV Advertising Spend')\n",
    "ax1.set_ylabel('Sales')\n",
    "ax1.legend()\n",
    "ax1.set_title('Linear Regression on Training Set')\n",
    "ax2.scatter(X_test, y_test, color='hotpink', label='Testing data')\n",
    "ax2.plot(X_test, y_test_pred, color='red', linewidth=2, label='Regression line')\n",
    "ax2.set_xlabel('TV Advertising Spend')\n",
    "ax2.set_ylabel('Sales')\n",
    "ax2.legend()\n",
    "ax2.set_title('Linear Regression on Testing Set')\n",
    "\n",
    "# Combined graph for training and testing sets\n",
    "fig, ax3 = plt.subplots(figsize=(8, 4))\n",
    "ax3.scatter(X_train, y_train, color='blue', label='Training data')\n",
    "ax3.scatter(X_test, y_test, color='hotpink', label='Testing data')\n",
    "ax3.plot(X_train, y_train_pred, color='red', linewidth=2, label='Regression line')\n",
    "ax3.set_xlabel('TV Advertising Spend')\n",
    "ax3.set_ylabel('Sales')\n",
    "ax3.legend()\n",
    "ax3.set_title('Linear Regression on Training and Testing Set')\n",
    "plt.show()"
   ]
  },
  {
   "cell_type": "markdown",
   "metadata": {},
   "source": [
    "Now we can make predictions using our linear regression model. For example, let's predict the sales if we invest $213 in TV advertising."
   ]
  },
  {
   "cell_type": "code",
   "execution_count": 18,
   "metadata": {},
   "outputs": [
    {
     "name": "stdout",
     "output_type": "stream",
     "text": [
      "The sales that our model has predicted for spending $213 on TV advertising is $18.57\n"
     ]
    }
   ],
   "source": [
    "#feel free to change the tv_advertising value to see other predictions\n",
    "tv_adverising = pd.DataFrame({'TV': [213]})\n",
    "predicted_sales = simpleLR_model.predict(tv_adverising)\n",
    "print(f\"The sales that our model has predicted for spending ${tv_adverising.iloc[0, 0]} on TV advertising is ${predicted_sales[0]:.2f}\")"
   ]
  },
  {
   "cell_type": "markdown",
   "metadata": {},
   "source": [
    "---------\n",
    "\n"
   ]
  },
  {
   "cell_type": "markdown",
   "metadata": {},
   "source": [
    "## Multiple linear regression"
   ]
  },
  {
   "cell_type": "markdown",
   "metadata": {},
   "source": [
    "Now, since we have gone through the simple linear regression where we had only one predictor (independent variable) - X, let's move on to multiple linear regression.\n",
    "\n",
    "Multiple linear regression is an extension of simple linear regression that allows us to model the relationship between a dependent variable and multiple independent variables. In other words, instead of using just one predictor to estimate the target variable, we use two or more predictors. This approach helps us understand how multiple factors collectively influence the target variable and can lead to more accurate predictions.\n",
    "\n",
    "In the context of our dataset, we will use TV and Radio advertising spends as predictors to estimate Sales. By considering multiple predictors, we aim to build a more comprehensive model that captures the combined effect of different marketing strategies on sales."
   ]
  },
  {
   "cell_type": "code",
   "execution_count": 19,
   "metadata": {},
   "outputs": [],
   "source": [
    "X = data[['TV', 'Radio']]  # Using  'TV' and 'Radio' as the independant variables for multiple linear regression\n",
    "y = data['Sales']\n",
    "X_train, X_test, y_train, y_test = train_test_split(X, y, train_size=0.7, test_size=0.3, random_state=100)"
   ]
  },
  {
   "cell_type": "code",
   "execution_count": 20,
   "metadata": {},
   "outputs": [
    {
     "data": {
      "application/vnd.plotly.v1+json": {
       "config": {
        "plotlyServerURL": "https://plot.ly"
       },
       "data": [
        {
         "marker": {
          "size": 3
         },
         "mode": "markers",
         "name": "Training data",
         "type": "scatter3d",
         "x": [
          213.4,
          151.5,
          205,
          142.9,
          134.3,
          80.2,
          239.8,
          88.3,
          19.4,
          225.8,
          136.2,
          25.1,
          38,
          172.5,
          109.8,
          240.1,
          232.1,
          66.1,
          218.4,
          234.5,
          23.8,
          67.8,
          296.4,
          141.3,
          175.1,
          220.5,
          76.4,
          253.8,
          191.1,
          287.6,
          100.4,
          228,
          125.7,
          74.7,
          57.5,
          262.7,
          262.9,
          237.4,
          227.2,
          199.8,
          228.3,
          290.7,
          276.9,
          199.8,
          239.3,
          73.4,
          284.3,
          147.3,
          224,
          198.9,
          276.7,
          13.2,
          11.7,
          280.2,
          39.5,
          265.6,
          27.5,
          280.7,
          78.2,
          163.3,
          213.5,
          293.6,
          18.7,
          75.5,
          166.8,
          44.7,
          109.8,
          8.7,
          266.9,
          206.9,
          149.8,
          19.6,
          36.9,
          199.1,
          265.2,
          165.6,
          140.3,
          230.1,
          5.4,
          17.9,
          237.4,
          286,
          93.9,
          292.9,
          25,
          97.5,
          26.8,
          281.4,
          69.2,
          43.1,
          255.4,
          239.9,
          209.6,
          7.3,
          240.1,
          102.7,
          243.2,
          137.9,
          18.8,
          17.2,
          76.4,
          139.5,
          261.3,
          66.9,
          48.3,
          177,
          28.6,
          180.8,
          222.4,
          193.7,
          59.6,
          131.7,
          8.4,
          13.1,
          4.1,
          0.7,
          76.3,
          250.9,
          273.7,
          96.2,
          210.8,
          53.5,
          90.4,
          104.6,
          283.6,
          95.7,
          204.1,
          31.5,
          182.6,
          289.7,
          156.6,
          107.4,
          43,
          248.4,
          116,
          110.7,
          187.9,
          139.3,
          62.3,
          8.6
         ],
         "y": [
          24.6,
          41.3,
          45.1,
          29.3,
          4.9,
          0,
          4.1,
          25.5,
          16,
          8.2,
          19.2,
          25.7,
          40.3,
          18.1,
          47.8,
          7.3,
          8.6,
          5.8,
          27.7,
          3.4,
          35.1,
          36.6,
          36.3,
          26.8,
          22.5,
          33.2,
          0.8,
          21.3,
          28.7,
          43,
          9.6,
          37.7,
          36.9,
          49.4,
          32.8,
          28.8,
          3.5,
          5.1,
          15.8,
          2.6,
          16.9,
          4.1,
          48.9,
          3.1,
          15.5,
          17,
          10.6,
          23.9,
          2.4,
          49.4,
          2.3,
          15.9,
          36.9,
          10.1,
          41.1,
          20,
          1.6,
          13.9,
          46.8,
          31.6,
          43,
          27.7,
          12.1,
          10.8,
          42,
          25.8,
          14.3,
          48.9,
          43.8,
          8.4,
          1.3,
          20.1,
          38.6,
          30.6,
          2.9,
          10,
          1.9,
          37.8,
          29.9,
          37.6,
          27.5,
          13.9,
          43.5,
          28.3,
          11,
          7.6,
          33,
          39.6,
          20.5,
          26.7,
          26.9,
          41.5,
          20.6,
          28.1,
          16.7,
          29.6,
          49,
          46.4,
          21.7,
          45.9,
          26.7,
          2.1,
          42.7,
          11.7,
          47,
          9.3,
          1.5,
          10.8,
          4.3,
          35.4,
          12,
          18.4,
          27.2,
          0.4,
          11.6,
          39.6,
          27.5,
          36.5,
          28.9,
          14.8,
          49.6,
          2,
          0.3,
          5.7,
          42,
          1.4,
          32.9,
          24.6,
          46.2,
          42.3,
          2.6,
          14,
          25.9,
          30.2,
          7.7,
          40.6,
          17.2,
          14.5,
          12.6,
          2.1
         ],
         "z": [
          17,
          16.5,
          22.6,
          15,
          14,
          11.9,
          17.3,
          12.9,
          6.6,
          18.4,
          13.2,
          8.5,
          10.9,
          16.4,
          16.7,
          18.2,
          18.4,
          12.6,
          18,
          16.9,
          9.2,
          12.5,
          23.8,
          15.5,
          16.1,
          20.1,
          9.4,
          17.6,
          17.3,
          26.2,
          10.7,
          21.5,
          15.9,
          14.7,
          11.8,
          20.2,
          17,
          17.5,
          19.8,
          15.6,
          20.5,
          17.8,
          27,
          16.4,
          20.7,
          10.9,
          20,
          14.6,
          16.6,
          23.7,
          16.8,
          5.6,
          7.3,
          19.8,
          10.8,
          17.4,
          6.9,
          16.1,
          14.6,
          16.9,
          21.7,
          20.7,
          6.7,
          11.9,
          19.6,
          10.1,
          12.4,
          7.2,
          25.4,
          17.9,
          10.1,
          7.6,
          10.8,
          18.3,
          17.7,
          17.6,
          10.3,
          22.1,
          5.3,
          8,
          18.9,
          20.9,
          15.3,
          21.4,
          7.2,
          13.7,
          8.8,
          24.4,
          11.3,
          10.1,
          19.8,
          23.2,
          20.9,
          5.5,
          20.9,
          14,
          25.4,
          15,
          7,
          12,
          11.8,
          10.3,
          24.2,
          9.7,
          11.6,
          14.8,
          7.3,
          17.9,
          16.7,
          19.2,
          9.7,
          12.9,
          5.7,
          5.3,
          3.2,
          1.6,
          12,
          22.2,
          20.8,
          12.3,
          23.8,
          8.1,
          12,
          10.4,
          25.5,
          11.9,
          19,
          11,
          21.2,
          25.4,
          15.5,
          11.5,
          9.6,
          20.2,
          11,
          16,
          19.7,
          13.4,
          9.7,
          4.8
         ]
        }
       ],
       "layout": {
        "scene": {
         "xaxis": {
          "title": {
           "text": "TV Advertising Spend"
          }
         },
         "yaxis": {
          "title": {
           "text": "Radio Advertising Spend"
          }
         },
         "zaxis": {
          "title": {
           "text": "Sales"
          }
         }
        },
        "template": {
         "data": {
          "bar": [
           {
            "error_x": {
             "color": "#2a3f5f"
            },
            "error_y": {
             "color": "#2a3f5f"
            },
            "marker": {
             "line": {
              "color": "#E5ECF6",
              "width": 0.5
             },
             "pattern": {
              "fillmode": "overlay",
              "size": 10,
              "solidity": 0.2
             }
            },
            "type": "bar"
           }
          ],
          "barpolar": [
           {
            "marker": {
             "line": {
              "color": "#E5ECF6",
              "width": 0.5
             },
             "pattern": {
              "fillmode": "overlay",
              "size": 10,
              "solidity": 0.2
             }
            },
            "type": "barpolar"
           }
          ],
          "carpet": [
           {
            "aaxis": {
             "endlinecolor": "#2a3f5f",
             "gridcolor": "white",
             "linecolor": "white",
             "minorgridcolor": "white",
             "startlinecolor": "#2a3f5f"
            },
            "baxis": {
             "endlinecolor": "#2a3f5f",
             "gridcolor": "white",
             "linecolor": "white",
             "minorgridcolor": "white",
             "startlinecolor": "#2a3f5f"
            },
            "type": "carpet"
           }
          ],
          "choropleth": [
           {
            "colorbar": {
             "outlinewidth": 0,
             "ticks": ""
            },
            "type": "choropleth"
           }
          ],
          "contour": [
           {
            "colorbar": {
             "outlinewidth": 0,
             "ticks": ""
            },
            "colorscale": [
             [
              0,
              "#0d0887"
             ],
             [
              0.1111111111111111,
              "#46039f"
             ],
             [
              0.2222222222222222,
              "#7201a8"
             ],
             [
              0.3333333333333333,
              "#9c179e"
             ],
             [
              0.4444444444444444,
              "#bd3786"
             ],
             [
              0.5555555555555556,
              "#d8576b"
             ],
             [
              0.6666666666666666,
              "#ed7953"
             ],
             [
              0.7777777777777778,
              "#fb9f3a"
             ],
             [
              0.8888888888888888,
              "#fdca26"
             ],
             [
              1,
              "#f0f921"
             ]
            ],
            "type": "contour"
           }
          ],
          "contourcarpet": [
           {
            "colorbar": {
             "outlinewidth": 0,
             "ticks": ""
            },
            "type": "contourcarpet"
           }
          ],
          "heatmap": [
           {
            "colorbar": {
             "outlinewidth": 0,
             "ticks": ""
            },
            "colorscale": [
             [
              0,
              "#0d0887"
             ],
             [
              0.1111111111111111,
              "#46039f"
             ],
             [
              0.2222222222222222,
              "#7201a8"
             ],
             [
              0.3333333333333333,
              "#9c179e"
             ],
             [
              0.4444444444444444,
              "#bd3786"
             ],
             [
              0.5555555555555556,
              "#d8576b"
             ],
             [
              0.6666666666666666,
              "#ed7953"
             ],
             [
              0.7777777777777778,
              "#fb9f3a"
             ],
             [
              0.8888888888888888,
              "#fdca26"
             ],
             [
              1,
              "#f0f921"
             ]
            ],
            "type": "heatmap"
           }
          ],
          "heatmapgl": [
           {
            "colorbar": {
             "outlinewidth": 0,
             "ticks": ""
            },
            "colorscale": [
             [
              0,
              "#0d0887"
             ],
             [
              0.1111111111111111,
              "#46039f"
             ],
             [
              0.2222222222222222,
              "#7201a8"
             ],
             [
              0.3333333333333333,
              "#9c179e"
             ],
             [
              0.4444444444444444,
              "#bd3786"
             ],
             [
              0.5555555555555556,
              "#d8576b"
             ],
             [
              0.6666666666666666,
              "#ed7953"
             ],
             [
              0.7777777777777778,
              "#fb9f3a"
             ],
             [
              0.8888888888888888,
              "#fdca26"
             ],
             [
              1,
              "#f0f921"
             ]
            ],
            "type": "heatmapgl"
           }
          ],
          "histogram": [
           {
            "marker": {
             "pattern": {
              "fillmode": "overlay",
              "size": 10,
              "solidity": 0.2
             }
            },
            "type": "histogram"
           }
          ],
          "histogram2d": [
           {
            "colorbar": {
             "outlinewidth": 0,
             "ticks": ""
            },
            "colorscale": [
             [
              0,
              "#0d0887"
             ],
             [
              0.1111111111111111,
              "#46039f"
             ],
             [
              0.2222222222222222,
              "#7201a8"
             ],
             [
              0.3333333333333333,
              "#9c179e"
             ],
             [
              0.4444444444444444,
              "#bd3786"
             ],
             [
              0.5555555555555556,
              "#d8576b"
             ],
             [
              0.6666666666666666,
              "#ed7953"
             ],
             [
              0.7777777777777778,
              "#fb9f3a"
             ],
             [
              0.8888888888888888,
              "#fdca26"
             ],
             [
              1,
              "#f0f921"
             ]
            ],
            "type": "histogram2d"
           }
          ],
          "histogram2dcontour": [
           {
            "colorbar": {
             "outlinewidth": 0,
             "ticks": ""
            },
            "colorscale": [
             [
              0,
              "#0d0887"
             ],
             [
              0.1111111111111111,
              "#46039f"
             ],
             [
              0.2222222222222222,
              "#7201a8"
             ],
             [
              0.3333333333333333,
              "#9c179e"
             ],
             [
              0.4444444444444444,
              "#bd3786"
             ],
             [
              0.5555555555555556,
              "#d8576b"
             ],
             [
              0.6666666666666666,
              "#ed7953"
             ],
             [
              0.7777777777777778,
              "#fb9f3a"
             ],
             [
              0.8888888888888888,
              "#fdca26"
             ],
             [
              1,
              "#f0f921"
             ]
            ],
            "type": "histogram2dcontour"
           }
          ],
          "mesh3d": [
           {
            "colorbar": {
             "outlinewidth": 0,
             "ticks": ""
            },
            "type": "mesh3d"
           }
          ],
          "parcoords": [
           {
            "line": {
             "colorbar": {
              "outlinewidth": 0,
              "ticks": ""
             }
            },
            "type": "parcoords"
           }
          ],
          "pie": [
           {
            "automargin": true,
            "type": "pie"
           }
          ],
          "scatter": [
           {
            "fillpattern": {
             "fillmode": "overlay",
             "size": 10,
             "solidity": 0.2
            },
            "type": "scatter"
           }
          ],
          "scatter3d": [
           {
            "line": {
             "colorbar": {
              "outlinewidth": 0,
              "ticks": ""
             }
            },
            "marker": {
             "colorbar": {
              "outlinewidth": 0,
              "ticks": ""
             }
            },
            "type": "scatter3d"
           }
          ],
          "scattercarpet": [
           {
            "marker": {
             "colorbar": {
              "outlinewidth": 0,
              "ticks": ""
             }
            },
            "type": "scattercarpet"
           }
          ],
          "scattergeo": [
           {
            "marker": {
             "colorbar": {
              "outlinewidth": 0,
              "ticks": ""
             }
            },
            "type": "scattergeo"
           }
          ],
          "scattergl": [
           {
            "marker": {
             "colorbar": {
              "outlinewidth": 0,
              "ticks": ""
             }
            },
            "type": "scattergl"
           }
          ],
          "scattermapbox": [
           {
            "marker": {
             "colorbar": {
              "outlinewidth": 0,
              "ticks": ""
             }
            },
            "type": "scattermapbox"
           }
          ],
          "scatterpolar": [
           {
            "marker": {
             "colorbar": {
              "outlinewidth": 0,
              "ticks": ""
             }
            },
            "type": "scatterpolar"
           }
          ],
          "scatterpolargl": [
           {
            "marker": {
             "colorbar": {
              "outlinewidth": 0,
              "ticks": ""
             }
            },
            "type": "scatterpolargl"
           }
          ],
          "scatterternary": [
           {
            "marker": {
             "colorbar": {
              "outlinewidth": 0,
              "ticks": ""
             }
            },
            "type": "scatterternary"
           }
          ],
          "surface": [
           {
            "colorbar": {
             "outlinewidth": 0,
             "ticks": ""
            },
            "colorscale": [
             [
              0,
              "#0d0887"
             ],
             [
              0.1111111111111111,
              "#46039f"
             ],
             [
              0.2222222222222222,
              "#7201a8"
             ],
             [
              0.3333333333333333,
              "#9c179e"
             ],
             [
              0.4444444444444444,
              "#bd3786"
             ],
             [
              0.5555555555555556,
              "#d8576b"
             ],
             [
              0.6666666666666666,
              "#ed7953"
             ],
             [
              0.7777777777777778,
              "#fb9f3a"
             ],
             [
              0.8888888888888888,
              "#fdca26"
             ],
             [
              1,
              "#f0f921"
             ]
            ],
            "type": "surface"
           }
          ],
          "table": [
           {
            "cells": {
             "fill": {
              "color": "#EBF0F8"
             },
             "line": {
              "color": "white"
             }
            },
            "header": {
             "fill": {
              "color": "#C8D4E3"
             },
             "line": {
              "color": "white"
             }
            },
            "type": "table"
           }
          ]
         },
         "layout": {
          "annotationdefaults": {
           "arrowcolor": "#2a3f5f",
           "arrowhead": 0,
           "arrowwidth": 1
          },
          "autotypenumbers": "strict",
          "coloraxis": {
           "colorbar": {
            "outlinewidth": 0,
            "ticks": ""
           }
          },
          "colorscale": {
           "diverging": [
            [
             0,
             "#8e0152"
            ],
            [
             0.1,
             "#c51b7d"
            ],
            [
             0.2,
             "#de77ae"
            ],
            [
             0.3,
             "#f1b6da"
            ],
            [
             0.4,
             "#fde0ef"
            ],
            [
             0.5,
             "#f7f7f7"
            ],
            [
             0.6,
             "#e6f5d0"
            ],
            [
             0.7,
             "#b8e186"
            ],
            [
             0.8,
             "#7fbc41"
            ],
            [
             0.9,
             "#4d9221"
            ],
            [
             1,
             "#276419"
            ]
           ],
           "sequential": [
            [
             0,
             "#0d0887"
            ],
            [
             0.1111111111111111,
             "#46039f"
            ],
            [
             0.2222222222222222,
             "#7201a8"
            ],
            [
             0.3333333333333333,
             "#9c179e"
            ],
            [
             0.4444444444444444,
             "#bd3786"
            ],
            [
             0.5555555555555556,
             "#d8576b"
            ],
            [
             0.6666666666666666,
             "#ed7953"
            ],
            [
             0.7777777777777778,
             "#fb9f3a"
            ],
            [
             0.8888888888888888,
             "#fdca26"
            ],
            [
             1,
             "#f0f921"
            ]
           ],
           "sequentialminus": [
            [
             0,
             "#0d0887"
            ],
            [
             0.1111111111111111,
             "#46039f"
            ],
            [
             0.2222222222222222,
             "#7201a8"
            ],
            [
             0.3333333333333333,
             "#9c179e"
            ],
            [
             0.4444444444444444,
             "#bd3786"
            ],
            [
             0.5555555555555556,
             "#d8576b"
            ],
            [
             0.6666666666666666,
             "#ed7953"
            ],
            [
             0.7777777777777778,
             "#fb9f3a"
            ],
            [
             0.8888888888888888,
             "#fdca26"
            ],
            [
             1,
             "#f0f921"
            ]
           ]
          },
          "colorway": [
           "#636efa",
           "#EF553B",
           "#00cc96",
           "#ab63fa",
           "#FFA15A",
           "#19d3f3",
           "#FF6692",
           "#B6E880",
           "#FF97FF",
           "#FECB52"
          ],
          "font": {
           "color": "#2a3f5f"
          },
          "geo": {
           "bgcolor": "white",
           "lakecolor": "white",
           "landcolor": "#E5ECF6",
           "showlakes": true,
           "showland": true,
           "subunitcolor": "white"
          },
          "hoverlabel": {
           "align": "left"
          },
          "hovermode": "closest",
          "mapbox": {
           "style": "light"
          },
          "paper_bgcolor": "white",
          "plot_bgcolor": "#E5ECF6",
          "polar": {
           "angularaxis": {
            "gridcolor": "white",
            "linecolor": "white",
            "ticks": ""
           },
           "bgcolor": "#E5ECF6",
           "radialaxis": {
            "gridcolor": "white",
            "linecolor": "white",
            "ticks": ""
           }
          },
          "scene": {
           "xaxis": {
            "backgroundcolor": "#E5ECF6",
            "gridcolor": "white",
            "gridwidth": 2,
            "linecolor": "white",
            "showbackground": true,
            "ticks": "",
            "zerolinecolor": "white"
           },
           "yaxis": {
            "backgroundcolor": "#E5ECF6",
            "gridcolor": "white",
            "gridwidth": 2,
            "linecolor": "white",
            "showbackground": true,
            "ticks": "",
            "zerolinecolor": "white"
           },
           "zaxis": {
            "backgroundcolor": "#E5ECF6",
            "gridcolor": "white",
            "gridwidth": 2,
            "linecolor": "white",
            "showbackground": true,
            "ticks": "",
            "zerolinecolor": "white"
           }
          },
          "shapedefaults": {
           "line": {
            "color": "#2a3f5f"
           }
          },
          "ternary": {
           "aaxis": {
            "gridcolor": "white",
            "linecolor": "white",
            "ticks": ""
           },
           "baxis": {
            "gridcolor": "white",
            "linecolor": "white",
            "ticks": ""
           },
           "bgcolor": "#E5ECF6",
           "caxis": {
            "gridcolor": "white",
            "linecolor": "white",
            "ticks": ""
           }
          },
          "title": {
           "x": 0.05
          },
          "xaxis": {
           "automargin": true,
           "gridcolor": "white",
           "linecolor": "white",
           "ticks": "",
           "title": {
            "standoff": 15
           },
           "zerolinecolor": "white",
           "zerolinewidth": 2
          },
          "yaxis": {
           "automargin": true,
           "gridcolor": "white",
           "linecolor": "white",
           "ticks": "",
           "title": {
            "standoff": 15
           },
           "zerolinecolor": "white",
           "zerolinewidth": 2
          }
         }
        },
        "title": {
         "text": "3D Scatter Plot of Training Data"
        }
       }
      }
     },
     "metadata": {},
     "output_type": "display_data"
    }
   ],
   "source": [
    "scatter = go.Scatter3d(\n",
    "    x=X_train['TV'], y=X_train['Radio'], z=y_train,\n",
    "    mode='markers',\n",
    "    marker=dict(size=3),\n",
    "    name='Training data'\n",
    ")\n",
    "\n",
    "# Create the figure and add the scatter plot\n",
    "fig = go.Figure(data=[scatter])\n",
    "\n",
    "# Update the layout\n",
    "fig.update_layout(\n",
    "    title='3D Scatter Plot of Training Data',\n",
    "    scene=dict(\n",
    "        xaxis_title='TV Advertising Spend',\n",
    "        yaxis_title='Radio Advertising Spend',\n",
    "        zaxis_title='Sales'\n",
    "    )\n",
    ")\n",
    "\n",
    "# Show the figure\n",
    "fig.show()"
   ]
  },
  {
   "cell_type": "code",
   "execution_count": 21,
   "metadata": {},
   "outputs": [
    {
     "data": {
      "text/html": [
       "<style>#sk-container-id-2 {\n",
       "  /* Definition of color scheme common for light and dark mode */\n",
       "  --sklearn-color-text: black;\n",
       "  --sklearn-color-line: gray;\n",
       "  /* Definition of color scheme for unfitted estimators */\n",
       "  --sklearn-color-unfitted-level-0: #fff5e6;\n",
       "  --sklearn-color-unfitted-level-1: #f6e4d2;\n",
       "  --sklearn-color-unfitted-level-2: #ffe0b3;\n",
       "  --sklearn-color-unfitted-level-3: chocolate;\n",
       "  /* Definition of color scheme for fitted estimators */\n",
       "  --sklearn-color-fitted-level-0: #f0f8ff;\n",
       "  --sklearn-color-fitted-level-1: #d4ebff;\n",
       "  --sklearn-color-fitted-level-2: #b3dbfd;\n",
       "  --sklearn-color-fitted-level-3: cornflowerblue;\n",
       "\n",
       "  /* Specific color for light theme */\n",
       "  --sklearn-color-text-on-default-background: var(--sg-text-color, var(--theme-code-foreground, var(--jp-content-font-color1, black)));\n",
       "  --sklearn-color-background: var(--sg-background-color, var(--theme-background, var(--jp-layout-color0, white)));\n",
       "  --sklearn-color-border-box: var(--sg-text-color, var(--theme-code-foreground, var(--jp-content-font-color1, black)));\n",
       "  --sklearn-color-icon: #696969;\n",
       "\n",
       "  @media (prefers-color-scheme: dark) {\n",
       "    /* Redefinition of color scheme for dark theme */\n",
       "    --sklearn-color-text-on-default-background: var(--sg-text-color, var(--theme-code-foreground, var(--jp-content-font-color1, white)));\n",
       "    --sklearn-color-background: var(--sg-background-color, var(--theme-background, var(--jp-layout-color0, #111)));\n",
       "    --sklearn-color-border-box: var(--sg-text-color, var(--theme-code-foreground, var(--jp-content-font-color1, white)));\n",
       "    --sklearn-color-icon: #878787;\n",
       "  }\n",
       "}\n",
       "\n",
       "#sk-container-id-2 {\n",
       "  color: var(--sklearn-color-text);\n",
       "}\n",
       "\n",
       "#sk-container-id-2 pre {\n",
       "  padding: 0;\n",
       "}\n",
       "\n",
       "#sk-container-id-2 input.sk-hidden--visually {\n",
       "  border: 0;\n",
       "  clip: rect(1px 1px 1px 1px);\n",
       "  clip: rect(1px, 1px, 1px, 1px);\n",
       "  height: 1px;\n",
       "  margin: -1px;\n",
       "  overflow: hidden;\n",
       "  padding: 0;\n",
       "  position: absolute;\n",
       "  width: 1px;\n",
       "}\n",
       "\n",
       "#sk-container-id-2 div.sk-dashed-wrapped {\n",
       "  border: 1px dashed var(--sklearn-color-line);\n",
       "  margin: 0 0.4em 0.5em 0.4em;\n",
       "  box-sizing: border-box;\n",
       "  padding-bottom: 0.4em;\n",
       "  background-color: var(--sklearn-color-background);\n",
       "}\n",
       "\n",
       "#sk-container-id-2 div.sk-container {\n",
       "  /* jupyter's `normalize.less` sets `[hidden] { display: none; }`\n",
       "     but bootstrap.min.css set `[hidden] { display: none !important; }`\n",
       "     so we also need the `!important` here to be able to override the\n",
       "     default hidden behavior on the sphinx rendered scikit-learn.org.\n",
       "     See: https://github.com/scikit-learn/scikit-learn/issues/21755 */\n",
       "  display: inline-block !important;\n",
       "  position: relative;\n",
       "}\n",
       "\n",
       "#sk-container-id-2 div.sk-text-repr-fallback {\n",
       "  display: none;\n",
       "}\n",
       "\n",
       "div.sk-parallel-item,\n",
       "div.sk-serial,\n",
       "div.sk-item {\n",
       "  /* draw centered vertical line to link estimators */\n",
       "  background-image: linear-gradient(var(--sklearn-color-text-on-default-background), var(--sklearn-color-text-on-default-background));\n",
       "  background-size: 2px 100%;\n",
       "  background-repeat: no-repeat;\n",
       "  background-position: center center;\n",
       "}\n",
       "\n",
       "/* Parallel-specific style estimator block */\n",
       "\n",
       "#sk-container-id-2 div.sk-parallel-item::after {\n",
       "  content: \"\";\n",
       "  width: 100%;\n",
       "  border-bottom: 2px solid var(--sklearn-color-text-on-default-background);\n",
       "  flex-grow: 1;\n",
       "}\n",
       "\n",
       "#sk-container-id-2 div.sk-parallel {\n",
       "  display: flex;\n",
       "  align-items: stretch;\n",
       "  justify-content: center;\n",
       "  background-color: var(--sklearn-color-background);\n",
       "  position: relative;\n",
       "}\n",
       "\n",
       "#sk-container-id-2 div.sk-parallel-item {\n",
       "  display: flex;\n",
       "  flex-direction: column;\n",
       "}\n",
       "\n",
       "#sk-container-id-2 div.sk-parallel-item:first-child::after {\n",
       "  align-self: flex-end;\n",
       "  width: 50%;\n",
       "}\n",
       "\n",
       "#sk-container-id-2 div.sk-parallel-item:last-child::after {\n",
       "  align-self: flex-start;\n",
       "  width: 50%;\n",
       "}\n",
       "\n",
       "#sk-container-id-2 div.sk-parallel-item:only-child::after {\n",
       "  width: 0;\n",
       "}\n",
       "\n",
       "/* Serial-specific style estimator block */\n",
       "\n",
       "#sk-container-id-2 div.sk-serial {\n",
       "  display: flex;\n",
       "  flex-direction: column;\n",
       "  align-items: center;\n",
       "  background-color: var(--sklearn-color-background);\n",
       "  padding-right: 1em;\n",
       "  padding-left: 1em;\n",
       "}\n",
       "\n",
       "\n",
       "/* Toggleable style: style used for estimator/Pipeline/ColumnTransformer box that is\n",
       "clickable and can be expanded/collapsed.\n",
       "- Pipeline and ColumnTransformer use this feature and define the default style\n",
       "- Estimators will overwrite some part of the style using the `sk-estimator` class\n",
       "*/\n",
       "\n",
       "/* Pipeline and ColumnTransformer style (default) */\n",
       "\n",
       "#sk-container-id-2 div.sk-toggleable {\n",
       "  /* Default theme specific background. It is overwritten whether we have a\n",
       "  specific estimator or a Pipeline/ColumnTransformer */\n",
       "  background-color: var(--sklearn-color-background);\n",
       "}\n",
       "\n",
       "/* Toggleable label */\n",
       "#sk-container-id-2 label.sk-toggleable__label {\n",
       "  cursor: pointer;\n",
       "  display: block;\n",
       "  width: 100%;\n",
       "  margin-bottom: 0;\n",
       "  padding: 0.5em;\n",
       "  box-sizing: border-box;\n",
       "  text-align: center;\n",
       "}\n",
       "\n",
       "#sk-container-id-2 label.sk-toggleable__label-arrow:before {\n",
       "  /* Arrow on the left of the label */\n",
       "  content: \"▸\";\n",
       "  float: left;\n",
       "  margin-right: 0.25em;\n",
       "  color: var(--sklearn-color-icon);\n",
       "}\n",
       "\n",
       "#sk-container-id-2 label.sk-toggleable__label-arrow:hover:before {\n",
       "  color: var(--sklearn-color-text);\n",
       "}\n",
       "\n",
       "/* Toggleable content - dropdown */\n",
       "\n",
       "#sk-container-id-2 div.sk-toggleable__content {\n",
       "  max-height: 0;\n",
       "  max-width: 0;\n",
       "  overflow: hidden;\n",
       "  text-align: left;\n",
       "  /* unfitted */\n",
       "  background-color: var(--sklearn-color-unfitted-level-0);\n",
       "}\n",
       "\n",
       "#sk-container-id-2 div.sk-toggleable__content.fitted {\n",
       "  /* fitted */\n",
       "  background-color: var(--sklearn-color-fitted-level-0);\n",
       "}\n",
       "\n",
       "#sk-container-id-2 div.sk-toggleable__content pre {\n",
       "  margin: 0.2em;\n",
       "  border-radius: 0.25em;\n",
       "  color: var(--sklearn-color-text);\n",
       "  /* unfitted */\n",
       "  background-color: var(--sklearn-color-unfitted-level-0);\n",
       "}\n",
       "\n",
       "#sk-container-id-2 div.sk-toggleable__content.fitted pre {\n",
       "  /* unfitted */\n",
       "  background-color: var(--sklearn-color-fitted-level-0);\n",
       "}\n",
       "\n",
       "#sk-container-id-2 input.sk-toggleable__control:checked~div.sk-toggleable__content {\n",
       "  /* Expand drop-down */\n",
       "  max-height: 200px;\n",
       "  max-width: 100%;\n",
       "  overflow: auto;\n",
       "}\n",
       "\n",
       "#sk-container-id-2 input.sk-toggleable__control:checked~label.sk-toggleable__label-arrow:before {\n",
       "  content: \"▾\";\n",
       "}\n",
       "\n",
       "/* Pipeline/ColumnTransformer-specific style */\n",
       "\n",
       "#sk-container-id-2 div.sk-label input.sk-toggleable__control:checked~label.sk-toggleable__label {\n",
       "  color: var(--sklearn-color-text);\n",
       "  background-color: var(--sklearn-color-unfitted-level-2);\n",
       "}\n",
       "\n",
       "#sk-container-id-2 div.sk-label.fitted input.sk-toggleable__control:checked~label.sk-toggleable__label {\n",
       "  background-color: var(--sklearn-color-fitted-level-2);\n",
       "}\n",
       "\n",
       "/* Estimator-specific style */\n",
       "\n",
       "/* Colorize estimator box */\n",
       "#sk-container-id-2 div.sk-estimator input.sk-toggleable__control:checked~label.sk-toggleable__label {\n",
       "  /* unfitted */\n",
       "  background-color: var(--sklearn-color-unfitted-level-2);\n",
       "}\n",
       "\n",
       "#sk-container-id-2 div.sk-estimator.fitted input.sk-toggleable__control:checked~label.sk-toggleable__label {\n",
       "  /* fitted */\n",
       "  background-color: var(--sklearn-color-fitted-level-2);\n",
       "}\n",
       "\n",
       "#sk-container-id-2 div.sk-label label.sk-toggleable__label,\n",
       "#sk-container-id-2 div.sk-label label {\n",
       "  /* The background is the default theme color */\n",
       "  color: var(--sklearn-color-text-on-default-background);\n",
       "}\n",
       "\n",
       "/* On hover, darken the color of the background */\n",
       "#sk-container-id-2 div.sk-label:hover label.sk-toggleable__label {\n",
       "  color: var(--sklearn-color-text);\n",
       "  background-color: var(--sklearn-color-unfitted-level-2);\n",
       "}\n",
       "\n",
       "/* Label box, darken color on hover, fitted */\n",
       "#sk-container-id-2 div.sk-label.fitted:hover label.sk-toggleable__label.fitted {\n",
       "  color: var(--sklearn-color-text);\n",
       "  background-color: var(--sklearn-color-fitted-level-2);\n",
       "}\n",
       "\n",
       "/* Estimator label */\n",
       "\n",
       "#sk-container-id-2 div.sk-label label {\n",
       "  font-family: monospace;\n",
       "  font-weight: bold;\n",
       "  display: inline-block;\n",
       "  line-height: 1.2em;\n",
       "}\n",
       "\n",
       "#sk-container-id-2 div.sk-label-container {\n",
       "  text-align: center;\n",
       "}\n",
       "\n",
       "/* Estimator-specific */\n",
       "#sk-container-id-2 div.sk-estimator {\n",
       "  font-family: monospace;\n",
       "  border: 1px dotted var(--sklearn-color-border-box);\n",
       "  border-radius: 0.25em;\n",
       "  box-sizing: border-box;\n",
       "  margin-bottom: 0.5em;\n",
       "  /* unfitted */\n",
       "  background-color: var(--sklearn-color-unfitted-level-0);\n",
       "}\n",
       "\n",
       "#sk-container-id-2 div.sk-estimator.fitted {\n",
       "  /* fitted */\n",
       "  background-color: var(--sklearn-color-fitted-level-0);\n",
       "}\n",
       "\n",
       "/* on hover */\n",
       "#sk-container-id-2 div.sk-estimator:hover {\n",
       "  /* unfitted */\n",
       "  background-color: var(--sklearn-color-unfitted-level-2);\n",
       "}\n",
       "\n",
       "#sk-container-id-2 div.sk-estimator.fitted:hover {\n",
       "  /* fitted */\n",
       "  background-color: var(--sklearn-color-fitted-level-2);\n",
       "}\n",
       "\n",
       "/* Specification for estimator info (e.g. \"i\" and \"?\") */\n",
       "\n",
       "/* Common style for \"i\" and \"?\" */\n",
       "\n",
       ".sk-estimator-doc-link,\n",
       "a:link.sk-estimator-doc-link,\n",
       "a:visited.sk-estimator-doc-link {\n",
       "  float: right;\n",
       "  font-size: smaller;\n",
       "  line-height: 1em;\n",
       "  font-family: monospace;\n",
       "  background-color: var(--sklearn-color-background);\n",
       "  border-radius: 1em;\n",
       "  height: 1em;\n",
       "  width: 1em;\n",
       "  text-decoration: none !important;\n",
       "  margin-left: 1ex;\n",
       "  /* unfitted */\n",
       "  border: var(--sklearn-color-unfitted-level-1) 1pt solid;\n",
       "  color: var(--sklearn-color-unfitted-level-1);\n",
       "}\n",
       "\n",
       ".sk-estimator-doc-link.fitted,\n",
       "a:link.sk-estimator-doc-link.fitted,\n",
       "a:visited.sk-estimator-doc-link.fitted {\n",
       "  /* fitted */\n",
       "  border: var(--sklearn-color-fitted-level-1) 1pt solid;\n",
       "  color: var(--sklearn-color-fitted-level-1);\n",
       "}\n",
       "\n",
       "/* On hover */\n",
       "div.sk-estimator:hover .sk-estimator-doc-link:hover,\n",
       ".sk-estimator-doc-link:hover,\n",
       "div.sk-label-container:hover .sk-estimator-doc-link:hover,\n",
       ".sk-estimator-doc-link:hover {\n",
       "  /* unfitted */\n",
       "  background-color: var(--sklearn-color-unfitted-level-3);\n",
       "  color: var(--sklearn-color-background);\n",
       "  text-decoration: none;\n",
       "}\n",
       "\n",
       "div.sk-estimator.fitted:hover .sk-estimator-doc-link.fitted:hover,\n",
       ".sk-estimator-doc-link.fitted:hover,\n",
       "div.sk-label-container:hover .sk-estimator-doc-link.fitted:hover,\n",
       ".sk-estimator-doc-link.fitted:hover {\n",
       "  /* fitted */\n",
       "  background-color: var(--sklearn-color-fitted-level-3);\n",
       "  color: var(--sklearn-color-background);\n",
       "  text-decoration: none;\n",
       "}\n",
       "\n",
       "/* Span, style for the box shown on hovering the info icon */\n",
       ".sk-estimator-doc-link span {\n",
       "  display: none;\n",
       "  z-index: 9999;\n",
       "  position: relative;\n",
       "  font-weight: normal;\n",
       "  right: .2ex;\n",
       "  padding: .5ex;\n",
       "  margin: .5ex;\n",
       "  width: min-content;\n",
       "  min-width: 20ex;\n",
       "  max-width: 50ex;\n",
       "  color: var(--sklearn-color-text);\n",
       "  box-shadow: 2pt 2pt 4pt #999;\n",
       "  /* unfitted */\n",
       "  background: var(--sklearn-color-unfitted-level-0);\n",
       "  border: .5pt solid var(--sklearn-color-unfitted-level-3);\n",
       "}\n",
       "\n",
       ".sk-estimator-doc-link.fitted span {\n",
       "  /* fitted */\n",
       "  background: var(--sklearn-color-fitted-level-0);\n",
       "  border: var(--sklearn-color-fitted-level-3);\n",
       "}\n",
       "\n",
       ".sk-estimator-doc-link:hover span {\n",
       "  display: block;\n",
       "}\n",
       "\n",
       "/* \"?\"-specific style due to the `<a>` HTML tag */\n",
       "\n",
       "#sk-container-id-2 a.estimator_doc_link {\n",
       "  float: right;\n",
       "  font-size: 1rem;\n",
       "  line-height: 1em;\n",
       "  font-family: monospace;\n",
       "  background-color: var(--sklearn-color-background);\n",
       "  border-radius: 1rem;\n",
       "  height: 1rem;\n",
       "  width: 1rem;\n",
       "  text-decoration: none;\n",
       "  /* unfitted */\n",
       "  color: var(--sklearn-color-unfitted-level-1);\n",
       "  border: var(--sklearn-color-unfitted-level-1) 1pt solid;\n",
       "}\n",
       "\n",
       "#sk-container-id-2 a.estimator_doc_link.fitted {\n",
       "  /* fitted */\n",
       "  border: var(--sklearn-color-fitted-level-1) 1pt solid;\n",
       "  color: var(--sklearn-color-fitted-level-1);\n",
       "}\n",
       "\n",
       "/* On hover */\n",
       "#sk-container-id-2 a.estimator_doc_link:hover {\n",
       "  /* unfitted */\n",
       "  background-color: var(--sklearn-color-unfitted-level-3);\n",
       "  color: var(--sklearn-color-background);\n",
       "  text-decoration: none;\n",
       "}\n",
       "\n",
       "#sk-container-id-2 a.estimator_doc_link.fitted:hover {\n",
       "  /* fitted */\n",
       "  background-color: var(--sklearn-color-fitted-level-3);\n",
       "}\n",
       "</style><div id=\"sk-container-id-2\" class=\"sk-top-container\"><div class=\"sk-text-repr-fallback\"><pre>LinearRegression()</pre><b>In a Jupyter environment, please rerun this cell to show the HTML representation or trust the notebook. <br />On GitHub, the HTML representation is unable to render, please try loading this page with nbviewer.org.</b></div><div class=\"sk-container\" hidden><div class=\"sk-item\"><div class=\"sk-estimator fitted sk-toggleable\"><input class=\"sk-toggleable__control sk-hidden--visually\" id=\"sk-estimator-id-2\" type=\"checkbox\" checked><label for=\"sk-estimator-id-2\" class=\"sk-toggleable__label fitted sk-toggleable__label-arrow fitted\">&nbsp;&nbsp;LinearRegression<a class=\"sk-estimator-doc-link fitted\" rel=\"noreferrer\" target=\"_blank\" href=\"https://scikit-learn.org/1.5/modules/generated/sklearn.linear_model.LinearRegression.html\">?<span>Documentation for LinearRegression</span></a><span class=\"sk-estimator-doc-link fitted\">i<span>Fitted</span></span></label><div class=\"sk-toggleable__content fitted\"><pre>LinearRegression()</pre></div> </div></div></div></div>"
      ],
      "text/plain": [
       "LinearRegression()"
      ]
     },
     "execution_count": 21,
     "metadata": {},
     "output_type": "execute_result"
    }
   ],
   "source": [
    "multipleLR_model = LinearRegression() \n",
    "multipleLR_model.fit(X_train, y_train) # training the model"
   ]
  },
  {
   "cell_type": "code",
   "execution_count": 22,
   "metadata": {},
   "outputs": [],
   "source": [
    "#now we evaluate the model\n",
    "y_train_pred = multipleLR_model.predict(X_train)"
   ]
  },
  {
   "cell_type": "code",
   "execution_count": 23,
   "metadata": {},
   "outputs": [
    {
     "name": "stdout",
     "output_type": "stream",
     "text": [
      "Intercept (beta_0): 4.425124731545283\n",
      "Coefficient for TV (beta_1): 0.053975926246645975\n",
      "Coefficient for Radio (beta_2): 0.11374333214117219\n"
     ]
    }
   ],
   "source": [
    "beta_0 = multipleLR_model.intercept_\n",
    "beta_1 = multipleLR_model.coef_[0]\n",
    "beta_2 = multipleLR_model.coef_[1]\n",
    "\n",
    "print(f\"Intercept (beta_0): {beta_0}\")\n",
    "print(f\"Coefficient for TV (beta_1): {beta_1}\")\n",
    "print(f\"Coefficient for Radio (beta_2): {beta_2}\")"
   ]
  },
  {
   "cell_type": "code",
   "execution_count": 24,
   "metadata": {},
   "outputs": [
    {
     "data": {
      "application/vnd.plotly.v1+json": {
       "config": {
        "plotlyServerURL": "https://plot.ly"
       },
       "data": [
        {
         "marker": {
          "color": "blue",
          "size": 5
         },
         "mode": "markers",
         "name": "Training data",
         "type": "scatter3d",
         "x": [
          213.4,
          151.5,
          205,
          142.9,
          134.3,
          80.2,
          239.8,
          88.3,
          19.4,
          225.8,
          136.2,
          25.1,
          38,
          172.5,
          109.8,
          240.1,
          232.1,
          66.1,
          218.4,
          234.5,
          23.8,
          67.8,
          296.4,
          141.3,
          175.1,
          220.5,
          76.4,
          253.8,
          191.1,
          287.6,
          100.4,
          228,
          125.7,
          74.7,
          57.5,
          262.7,
          262.9,
          237.4,
          227.2,
          199.8,
          228.3,
          290.7,
          276.9,
          199.8,
          239.3,
          73.4,
          284.3,
          147.3,
          224,
          198.9,
          276.7,
          13.2,
          11.7,
          280.2,
          39.5,
          265.6,
          27.5,
          280.7,
          78.2,
          163.3,
          213.5,
          293.6,
          18.7,
          75.5,
          166.8,
          44.7,
          109.8,
          8.7,
          266.9,
          206.9,
          149.8,
          19.6,
          36.9,
          199.1,
          265.2,
          165.6,
          140.3,
          230.1,
          5.4,
          17.9,
          237.4,
          286,
          93.9,
          292.9,
          25,
          97.5,
          26.8,
          281.4,
          69.2,
          43.1,
          255.4,
          239.9,
          209.6,
          7.3,
          240.1,
          102.7,
          243.2,
          137.9,
          18.8,
          17.2,
          76.4,
          139.5,
          261.3,
          66.9,
          48.3,
          177,
          28.6,
          180.8,
          222.4,
          193.7,
          59.6,
          131.7,
          8.4,
          13.1,
          4.1,
          0.7,
          76.3,
          250.9,
          273.7,
          96.2,
          210.8,
          53.5,
          90.4,
          104.6,
          283.6,
          95.7,
          204.1,
          31.5,
          182.6,
          289.7,
          156.6,
          107.4,
          43,
          248.4,
          116,
          110.7,
          187.9,
          139.3,
          62.3,
          8.6
         ],
         "y": [
          24.6,
          41.3,
          45.1,
          29.3,
          4.9,
          0,
          4.1,
          25.5,
          16,
          8.2,
          19.2,
          25.7,
          40.3,
          18.1,
          47.8,
          7.3,
          8.6,
          5.8,
          27.7,
          3.4,
          35.1,
          36.6,
          36.3,
          26.8,
          22.5,
          33.2,
          0.8,
          21.3,
          28.7,
          43,
          9.6,
          37.7,
          36.9,
          49.4,
          32.8,
          28.8,
          3.5,
          5.1,
          15.8,
          2.6,
          16.9,
          4.1,
          48.9,
          3.1,
          15.5,
          17,
          10.6,
          23.9,
          2.4,
          49.4,
          2.3,
          15.9,
          36.9,
          10.1,
          41.1,
          20,
          1.6,
          13.9,
          46.8,
          31.6,
          43,
          27.7,
          12.1,
          10.8,
          42,
          25.8,
          14.3,
          48.9,
          43.8,
          8.4,
          1.3,
          20.1,
          38.6,
          30.6,
          2.9,
          10,
          1.9,
          37.8,
          29.9,
          37.6,
          27.5,
          13.9,
          43.5,
          28.3,
          11,
          7.6,
          33,
          39.6,
          20.5,
          26.7,
          26.9,
          41.5,
          20.6,
          28.1,
          16.7,
          29.6,
          49,
          46.4,
          21.7,
          45.9,
          26.7,
          2.1,
          42.7,
          11.7,
          47,
          9.3,
          1.5,
          10.8,
          4.3,
          35.4,
          12,
          18.4,
          27.2,
          0.4,
          11.6,
          39.6,
          27.5,
          36.5,
          28.9,
          14.8,
          49.6,
          2,
          0.3,
          5.7,
          42,
          1.4,
          32.9,
          24.6,
          46.2,
          42.3,
          2.6,
          14,
          25.9,
          30.2,
          7.7,
          40.6,
          17.2,
          14.5,
          12.6,
          2.1
         ],
         "z": [
          17,
          16.5,
          22.6,
          15,
          14,
          11.9,
          17.3,
          12.9,
          6.6,
          18.4,
          13.2,
          8.5,
          10.9,
          16.4,
          16.7,
          18.2,
          18.4,
          12.6,
          18,
          16.9,
          9.2,
          12.5,
          23.8,
          15.5,
          16.1,
          20.1,
          9.4,
          17.6,
          17.3,
          26.2,
          10.7,
          21.5,
          15.9,
          14.7,
          11.8,
          20.2,
          17,
          17.5,
          19.8,
          15.6,
          20.5,
          17.8,
          27,
          16.4,
          20.7,
          10.9,
          20,
          14.6,
          16.6,
          23.7,
          16.8,
          5.6,
          7.3,
          19.8,
          10.8,
          17.4,
          6.9,
          16.1,
          14.6,
          16.9,
          21.7,
          20.7,
          6.7,
          11.9,
          19.6,
          10.1,
          12.4,
          7.2,
          25.4,
          17.9,
          10.1,
          7.6,
          10.8,
          18.3,
          17.7,
          17.6,
          10.3,
          22.1,
          5.3,
          8,
          18.9,
          20.9,
          15.3,
          21.4,
          7.2,
          13.7,
          8.8,
          24.4,
          11.3,
          10.1,
          19.8,
          23.2,
          20.9,
          5.5,
          20.9,
          14,
          25.4,
          15,
          7,
          12,
          11.8,
          10.3,
          24.2,
          9.7,
          11.6,
          14.8,
          7.3,
          17.9,
          16.7,
          19.2,
          9.7,
          12.9,
          5.7,
          5.3,
          3.2,
          1.6,
          12,
          22.2,
          20.8,
          12.3,
          23.8,
          8.1,
          12,
          10.4,
          25.5,
          11.9,
          19,
          11,
          21.2,
          25.4,
          15.5,
          11.5,
          9.6,
          20.2,
          11,
          16,
          19.7,
          13.4,
          9.7,
          4.8
         ]
        },
        {
         "colorscale": [
          [
           0,
           "#440154"
          ],
          [
           0.1111111111111111,
           "#482878"
          ],
          [
           0.2222222222222222,
           "#3e4989"
          ],
          [
           0.3333333333333333,
           "#31688e"
          ],
          [
           0.4444444444444444,
           "#26828e"
          ],
          [
           0.5555555555555556,
           "#1f9e89"
          ],
          [
           0.6666666666666666,
           "#35b779"
          ],
          [
           0.7777777777777778,
           "#6ece58"
          ],
          [
           0.8888888888888888,
           "#b5de2b"
          ],
          [
           1,
           "#fde725"
          ]
         ],
         "name": "Regression plane",
         "opacity": 0.5,
         "type": "surface",
         "x": [
          [
           0.7,
           33.55555555555556,
           66.41111111111111,
           99.26666666666667,
           132.1222222222222,
           164.97777777777776,
           197.83333333333331,
           230.68888888888887,
           263.5444444444444,
           296.4
          ],
          [
           0.7,
           33.55555555555556,
           66.41111111111111,
           99.26666666666667,
           132.1222222222222,
           164.97777777777776,
           197.83333333333331,
           230.68888888888887,
           263.5444444444444,
           296.4
          ],
          [
           0.7,
           33.55555555555556,
           66.41111111111111,
           99.26666666666667,
           132.1222222222222,
           164.97777777777776,
           197.83333333333331,
           230.68888888888887,
           263.5444444444444,
           296.4
          ],
          [
           0.7,
           33.55555555555556,
           66.41111111111111,
           99.26666666666667,
           132.1222222222222,
           164.97777777777776,
           197.83333333333331,
           230.68888888888887,
           263.5444444444444,
           296.4
          ],
          [
           0.7,
           33.55555555555556,
           66.41111111111111,
           99.26666666666667,
           132.1222222222222,
           164.97777777777776,
           197.83333333333331,
           230.68888888888887,
           263.5444444444444,
           296.4
          ],
          [
           0.7,
           33.55555555555556,
           66.41111111111111,
           99.26666666666667,
           132.1222222222222,
           164.97777777777776,
           197.83333333333331,
           230.68888888888887,
           263.5444444444444,
           296.4
          ],
          [
           0.7,
           33.55555555555556,
           66.41111111111111,
           99.26666666666667,
           132.1222222222222,
           164.97777777777776,
           197.83333333333331,
           230.68888888888887,
           263.5444444444444,
           296.4
          ],
          [
           0.7,
           33.55555555555556,
           66.41111111111111,
           99.26666666666667,
           132.1222222222222,
           164.97777777777776,
           197.83333333333331,
           230.68888888888887,
           263.5444444444444,
           296.4
          ],
          [
           0.7,
           33.55555555555556,
           66.41111111111111,
           99.26666666666667,
           132.1222222222222,
           164.97777777777776,
           197.83333333333331,
           230.68888888888887,
           263.5444444444444,
           296.4
          ],
          [
           0.7,
           33.55555555555556,
           66.41111111111111,
           99.26666666666667,
           132.1222222222222,
           164.97777777777776,
           197.83333333333331,
           230.68888888888887,
           263.5444444444444,
           296.4
          ]
         ],
         "y": [
          [
           0,
           0,
           0,
           0,
           0,
           0,
           0,
           0,
           0,
           0
          ],
          [
           5.511111111111111,
           5.511111111111111,
           5.511111111111111,
           5.511111111111111,
           5.511111111111111,
           5.511111111111111,
           5.511111111111111,
           5.511111111111111,
           5.511111111111111,
           5.511111111111111
          ],
          [
           11.022222222222222,
           11.022222222222222,
           11.022222222222222,
           11.022222222222222,
           11.022222222222222,
           11.022222222222222,
           11.022222222222222,
           11.022222222222222,
           11.022222222222222,
           11.022222222222222
          ],
          [
           16.53333333333333,
           16.53333333333333,
           16.53333333333333,
           16.53333333333333,
           16.53333333333333,
           16.53333333333333,
           16.53333333333333,
           16.53333333333333,
           16.53333333333333,
           16.53333333333333
          ],
          [
           22.044444444444444,
           22.044444444444444,
           22.044444444444444,
           22.044444444444444,
           22.044444444444444,
           22.044444444444444,
           22.044444444444444,
           22.044444444444444,
           22.044444444444444,
           22.044444444444444
          ],
          [
           27.555555555555557,
           27.555555555555557,
           27.555555555555557,
           27.555555555555557,
           27.555555555555557,
           27.555555555555557,
           27.555555555555557,
           27.555555555555557,
           27.555555555555557,
           27.555555555555557
          ],
          [
           33.06666666666666,
           33.06666666666666,
           33.06666666666666,
           33.06666666666666,
           33.06666666666666,
           33.06666666666666,
           33.06666666666666,
           33.06666666666666,
           33.06666666666666,
           33.06666666666666
          ],
          [
           38.577777777777776,
           38.577777777777776,
           38.577777777777776,
           38.577777777777776,
           38.577777777777776,
           38.577777777777776,
           38.577777777777776,
           38.577777777777776,
           38.577777777777776,
           38.577777777777776
          ],
          [
           44.08888888888889,
           44.08888888888889,
           44.08888888888889,
           44.08888888888889,
           44.08888888888889,
           44.08888888888889,
           44.08888888888889,
           44.08888888888889,
           44.08888888888889,
           44.08888888888889
          ],
          [
           49.6,
           49.6,
           49.6,
           49.6,
           49.6,
           49.6,
           49.6,
           49.6,
           49.6,
           49.6
          ]
         ],
         "z": [
          [
           4.462907879917935,
           6.236316923377181,
           8.009725966836427,
           9.783135010295673,
           11.55654405375492,
           13.329953097214165,
           15.103362140673411,
           16.876771184132657,
           18.650180227591903,
           20.42358927105115
          ],
          [
           5.089760021495951,
           6.863169064955197,
           8.636578108414444,
           10.40998715187369,
           12.183396195332936,
           13.956805238792182,
           15.730214282251428,
           17.503623325710674,
           19.27703236916992,
           21.050441412629166
          ],
          [
           5.716612163073966,
           7.490021206533212,
           9.263430249992458,
           11.036839293451704,
           12.81024833691095,
           14.583657380370196,
           16.357066423829444,
           18.13047546728869,
           19.903884510747936,
           21.677293554207182
          ],
          [
           6.343464304651982,
           8.116873348111229,
           9.890282391570475,
           11.66369143502972,
           13.437100478488967,
           15.210509521948213,
           16.983918565407457,
           18.757327608866703,
           20.53073665232595,
           22.304145695785195
          ],
          [
           6.970316446229997,
           8.743725489689243,
           10.51713453314849,
           12.290543576607735,
           14.063952620066981,
           15.837361663526227,
           17.610770706985473,
           19.38417975044472,
           21.157588793903965,
           22.93099783736321
          ],
          [
           7.597168587808014,
           9.37057763126726,
           11.143986674726506,
           12.917395718185752,
           14.690804761644998,
           16.464213805104244,
           18.23762284856349,
           20.011031892022736,
           21.78444093548198,
           23.557849978941228
          ],
          [
           8.224020729386028,
           9.997429772845274,
           11.77083881630452,
           13.544247859763766,
           15.317656903223012,
           17.09106594668226,
           18.864474990141506,
           20.637884033600752,
           22.411293077059998,
           24.184702120519244
          ],
          [
           8.850872870964045,
           10.62428191442329,
           12.397690957882537,
           14.171100001341783,
           15.944509044801029,
           17.717918088260276,
           19.491327131719522,
           21.26473617517877,
           23.038145218638014,
           24.81155426209726
          ],
          [
           9.47772501254206,
           11.251134056001305,
           13.024543099460551,
           14.797952142919797,
           16.571361186379043,
           18.34477022983829,
           20.118179273297535,
           21.89158831675678,
           23.664997360216027,
           25.438406403675273
          ],
          [
           10.104577154120076,
           11.877986197579322,
           13.651395241038568,
           15.424804284497814,
           17.19821332795706,
           18.971622371416306,
           20.74503141487555,
           22.518440458334798,
           24.291849501794044,
           26.06525854525329
          ]
         ]
        }
       ],
       "layout": {
        "scene": {
         "xaxis": {
          "title": {
           "text": "TV Advertising Spend"
          }
         },
         "yaxis": {
          "title": {
           "text": "Radio Advertising Spend"
          }
         },
         "zaxis": {
          "title": {
           "text": "Sales"
          }
         }
        },
        "template": {
         "data": {
          "bar": [
           {
            "error_x": {
             "color": "#2a3f5f"
            },
            "error_y": {
             "color": "#2a3f5f"
            },
            "marker": {
             "line": {
              "color": "#E5ECF6",
              "width": 0.5
             },
             "pattern": {
              "fillmode": "overlay",
              "size": 10,
              "solidity": 0.2
             }
            },
            "type": "bar"
           }
          ],
          "barpolar": [
           {
            "marker": {
             "line": {
              "color": "#E5ECF6",
              "width": 0.5
             },
             "pattern": {
              "fillmode": "overlay",
              "size": 10,
              "solidity": 0.2
             }
            },
            "type": "barpolar"
           }
          ],
          "carpet": [
           {
            "aaxis": {
             "endlinecolor": "#2a3f5f",
             "gridcolor": "white",
             "linecolor": "white",
             "minorgridcolor": "white",
             "startlinecolor": "#2a3f5f"
            },
            "baxis": {
             "endlinecolor": "#2a3f5f",
             "gridcolor": "white",
             "linecolor": "white",
             "minorgridcolor": "white",
             "startlinecolor": "#2a3f5f"
            },
            "type": "carpet"
           }
          ],
          "choropleth": [
           {
            "colorbar": {
             "outlinewidth": 0,
             "ticks": ""
            },
            "type": "choropleth"
           }
          ],
          "contour": [
           {
            "colorbar": {
             "outlinewidth": 0,
             "ticks": ""
            },
            "colorscale": [
             [
              0,
              "#0d0887"
             ],
             [
              0.1111111111111111,
              "#46039f"
             ],
             [
              0.2222222222222222,
              "#7201a8"
             ],
             [
              0.3333333333333333,
              "#9c179e"
             ],
             [
              0.4444444444444444,
              "#bd3786"
             ],
             [
              0.5555555555555556,
              "#d8576b"
             ],
             [
              0.6666666666666666,
              "#ed7953"
             ],
             [
              0.7777777777777778,
              "#fb9f3a"
             ],
             [
              0.8888888888888888,
              "#fdca26"
             ],
             [
              1,
              "#f0f921"
             ]
            ],
            "type": "contour"
           }
          ],
          "contourcarpet": [
           {
            "colorbar": {
             "outlinewidth": 0,
             "ticks": ""
            },
            "type": "contourcarpet"
           }
          ],
          "heatmap": [
           {
            "colorbar": {
             "outlinewidth": 0,
             "ticks": ""
            },
            "colorscale": [
             [
              0,
              "#0d0887"
             ],
             [
              0.1111111111111111,
              "#46039f"
             ],
             [
              0.2222222222222222,
              "#7201a8"
             ],
             [
              0.3333333333333333,
              "#9c179e"
             ],
             [
              0.4444444444444444,
              "#bd3786"
             ],
             [
              0.5555555555555556,
              "#d8576b"
             ],
             [
              0.6666666666666666,
              "#ed7953"
             ],
             [
              0.7777777777777778,
              "#fb9f3a"
             ],
             [
              0.8888888888888888,
              "#fdca26"
             ],
             [
              1,
              "#f0f921"
             ]
            ],
            "type": "heatmap"
           }
          ],
          "heatmapgl": [
           {
            "colorbar": {
             "outlinewidth": 0,
             "ticks": ""
            },
            "colorscale": [
             [
              0,
              "#0d0887"
             ],
             [
              0.1111111111111111,
              "#46039f"
             ],
             [
              0.2222222222222222,
              "#7201a8"
             ],
             [
              0.3333333333333333,
              "#9c179e"
             ],
             [
              0.4444444444444444,
              "#bd3786"
             ],
             [
              0.5555555555555556,
              "#d8576b"
             ],
             [
              0.6666666666666666,
              "#ed7953"
             ],
             [
              0.7777777777777778,
              "#fb9f3a"
             ],
             [
              0.8888888888888888,
              "#fdca26"
             ],
             [
              1,
              "#f0f921"
             ]
            ],
            "type": "heatmapgl"
           }
          ],
          "histogram": [
           {
            "marker": {
             "pattern": {
              "fillmode": "overlay",
              "size": 10,
              "solidity": 0.2
             }
            },
            "type": "histogram"
           }
          ],
          "histogram2d": [
           {
            "colorbar": {
             "outlinewidth": 0,
             "ticks": ""
            },
            "colorscale": [
             [
              0,
              "#0d0887"
             ],
             [
              0.1111111111111111,
              "#46039f"
             ],
             [
              0.2222222222222222,
              "#7201a8"
             ],
             [
              0.3333333333333333,
              "#9c179e"
             ],
             [
              0.4444444444444444,
              "#bd3786"
             ],
             [
              0.5555555555555556,
              "#d8576b"
             ],
             [
              0.6666666666666666,
              "#ed7953"
             ],
             [
              0.7777777777777778,
              "#fb9f3a"
             ],
             [
              0.8888888888888888,
              "#fdca26"
             ],
             [
              1,
              "#f0f921"
             ]
            ],
            "type": "histogram2d"
           }
          ],
          "histogram2dcontour": [
           {
            "colorbar": {
             "outlinewidth": 0,
             "ticks": ""
            },
            "colorscale": [
             [
              0,
              "#0d0887"
             ],
             [
              0.1111111111111111,
              "#46039f"
             ],
             [
              0.2222222222222222,
              "#7201a8"
             ],
             [
              0.3333333333333333,
              "#9c179e"
             ],
             [
              0.4444444444444444,
              "#bd3786"
             ],
             [
              0.5555555555555556,
              "#d8576b"
             ],
             [
              0.6666666666666666,
              "#ed7953"
             ],
             [
              0.7777777777777778,
              "#fb9f3a"
             ],
             [
              0.8888888888888888,
              "#fdca26"
             ],
             [
              1,
              "#f0f921"
             ]
            ],
            "type": "histogram2dcontour"
           }
          ],
          "mesh3d": [
           {
            "colorbar": {
             "outlinewidth": 0,
             "ticks": ""
            },
            "type": "mesh3d"
           }
          ],
          "parcoords": [
           {
            "line": {
             "colorbar": {
              "outlinewidth": 0,
              "ticks": ""
             }
            },
            "type": "parcoords"
           }
          ],
          "pie": [
           {
            "automargin": true,
            "type": "pie"
           }
          ],
          "scatter": [
           {
            "fillpattern": {
             "fillmode": "overlay",
             "size": 10,
             "solidity": 0.2
            },
            "type": "scatter"
           }
          ],
          "scatter3d": [
           {
            "line": {
             "colorbar": {
              "outlinewidth": 0,
              "ticks": ""
             }
            },
            "marker": {
             "colorbar": {
              "outlinewidth": 0,
              "ticks": ""
             }
            },
            "type": "scatter3d"
           }
          ],
          "scattercarpet": [
           {
            "marker": {
             "colorbar": {
              "outlinewidth": 0,
              "ticks": ""
             }
            },
            "type": "scattercarpet"
           }
          ],
          "scattergeo": [
           {
            "marker": {
             "colorbar": {
              "outlinewidth": 0,
              "ticks": ""
             }
            },
            "type": "scattergeo"
           }
          ],
          "scattergl": [
           {
            "marker": {
             "colorbar": {
              "outlinewidth": 0,
              "ticks": ""
             }
            },
            "type": "scattergl"
           }
          ],
          "scattermapbox": [
           {
            "marker": {
             "colorbar": {
              "outlinewidth": 0,
              "ticks": ""
             }
            },
            "type": "scattermapbox"
           }
          ],
          "scatterpolar": [
           {
            "marker": {
             "colorbar": {
              "outlinewidth": 0,
              "ticks": ""
             }
            },
            "type": "scatterpolar"
           }
          ],
          "scatterpolargl": [
           {
            "marker": {
             "colorbar": {
              "outlinewidth": 0,
              "ticks": ""
             }
            },
            "type": "scatterpolargl"
           }
          ],
          "scatterternary": [
           {
            "marker": {
             "colorbar": {
              "outlinewidth": 0,
              "ticks": ""
             }
            },
            "type": "scatterternary"
           }
          ],
          "surface": [
           {
            "colorbar": {
             "outlinewidth": 0,
             "ticks": ""
            },
            "colorscale": [
             [
              0,
              "#0d0887"
             ],
             [
              0.1111111111111111,
              "#46039f"
             ],
             [
              0.2222222222222222,
              "#7201a8"
             ],
             [
              0.3333333333333333,
              "#9c179e"
             ],
             [
              0.4444444444444444,
              "#bd3786"
             ],
             [
              0.5555555555555556,
              "#d8576b"
             ],
             [
              0.6666666666666666,
              "#ed7953"
             ],
             [
              0.7777777777777778,
              "#fb9f3a"
             ],
             [
              0.8888888888888888,
              "#fdca26"
             ],
             [
              1,
              "#f0f921"
             ]
            ],
            "type": "surface"
           }
          ],
          "table": [
           {
            "cells": {
             "fill": {
              "color": "#EBF0F8"
             },
             "line": {
              "color": "white"
             }
            },
            "header": {
             "fill": {
              "color": "#C8D4E3"
             },
             "line": {
              "color": "white"
             }
            },
            "type": "table"
           }
          ]
         },
         "layout": {
          "annotationdefaults": {
           "arrowcolor": "#2a3f5f",
           "arrowhead": 0,
           "arrowwidth": 1
          },
          "autotypenumbers": "strict",
          "coloraxis": {
           "colorbar": {
            "outlinewidth": 0,
            "ticks": ""
           }
          },
          "colorscale": {
           "diverging": [
            [
             0,
             "#8e0152"
            ],
            [
             0.1,
             "#c51b7d"
            ],
            [
             0.2,
             "#de77ae"
            ],
            [
             0.3,
             "#f1b6da"
            ],
            [
             0.4,
             "#fde0ef"
            ],
            [
             0.5,
             "#f7f7f7"
            ],
            [
             0.6,
             "#e6f5d0"
            ],
            [
             0.7,
             "#b8e186"
            ],
            [
             0.8,
             "#7fbc41"
            ],
            [
             0.9,
             "#4d9221"
            ],
            [
             1,
             "#276419"
            ]
           ],
           "sequential": [
            [
             0,
             "#0d0887"
            ],
            [
             0.1111111111111111,
             "#46039f"
            ],
            [
             0.2222222222222222,
             "#7201a8"
            ],
            [
             0.3333333333333333,
             "#9c179e"
            ],
            [
             0.4444444444444444,
             "#bd3786"
            ],
            [
             0.5555555555555556,
             "#d8576b"
            ],
            [
             0.6666666666666666,
             "#ed7953"
            ],
            [
             0.7777777777777778,
             "#fb9f3a"
            ],
            [
             0.8888888888888888,
             "#fdca26"
            ],
            [
             1,
             "#f0f921"
            ]
           ],
           "sequentialminus": [
            [
             0,
             "#0d0887"
            ],
            [
             0.1111111111111111,
             "#46039f"
            ],
            [
             0.2222222222222222,
             "#7201a8"
            ],
            [
             0.3333333333333333,
             "#9c179e"
            ],
            [
             0.4444444444444444,
             "#bd3786"
            ],
            [
             0.5555555555555556,
             "#d8576b"
            ],
            [
             0.6666666666666666,
             "#ed7953"
            ],
            [
             0.7777777777777778,
             "#fb9f3a"
            ],
            [
             0.8888888888888888,
             "#fdca26"
            ],
            [
             1,
             "#f0f921"
            ]
           ]
          },
          "colorway": [
           "#636efa",
           "#EF553B",
           "#00cc96",
           "#ab63fa",
           "#FFA15A",
           "#19d3f3",
           "#FF6692",
           "#B6E880",
           "#FF97FF",
           "#FECB52"
          ],
          "font": {
           "color": "#2a3f5f"
          },
          "geo": {
           "bgcolor": "white",
           "lakecolor": "white",
           "landcolor": "#E5ECF6",
           "showlakes": true,
           "showland": true,
           "subunitcolor": "white"
          },
          "hoverlabel": {
           "align": "left"
          },
          "hovermode": "closest",
          "mapbox": {
           "style": "light"
          },
          "paper_bgcolor": "white",
          "plot_bgcolor": "#E5ECF6",
          "polar": {
           "angularaxis": {
            "gridcolor": "white",
            "linecolor": "white",
            "ticks": ""
           },
           "bgcolor": "#E5ECF6",
           "radialaxis": {
            "gridcolor": "white",
            "linecolor": "white",
            "ticks": ""
           }
          },
          "scene": {
           "xaxis": {
            "backgroundcolor": "#E5ECF6",
            "gridcolor": "white",
            "gridwidth": 2,
            "linecolor": "white",
            "showbackground": true,
            "ticks": "",
            "zerolinecolor": "white"
           },
           "yaxis": {
            "backgroundcolor": "#E5ECF6",
            "gridcolor": "white",
            "gridwidth": 2,
            "linecolor": "white",
            "showbackground": true,
            "ticks": "",
            "zerolinecolor": "white"
           },
           "zaxis": {
            "backgroundcolor": "#E5ECF6",
            "gridcolor": "white",
            "gridwidth": 2,
            "linecolor": "white",
            "showbackground": true,
            "ticks": "",
            "zerolinecolor": "white"
           }
          },
          "shapedefaults": {
           "line": {
            "color": "#2a3f5f"
           }
          },
          "ternary": {
           "aaxis": {
            "gridcolor": "white",
            "linecolor": "white",
            "ticks": ""
           },
           "baxis": {
            "gridcolor": "white",
            "linecolor": "white",
            "ticks": ""
           },
           "bgcolor": "#E5ECF6",
           "caxis": {
            "gridcolor": "white",
            "linecolor": "white",
            "ticks": ""
           }
          },
          "title": {
           "x": 0.05
          },
          "xaxis": {
           "automargin": true,
           "gridcolor": "white",
           "linecolor": "white",
           "ticks": "",
           "title": {
            "standoff": 15
           },
           "zerolinecolor": "white",
           "zerolinewidth": 2
          },
          "yaxis": {
           "automargin": true,
           "gridcolor": "white",
           "linecolor": "white",
           "ticks": "",
           "title": {
            "standoff": 15
           },
           "zerolinecolor": "white",
           "zerolinewidth": 2
          }
         }
        },
        "title": {
         "text": "3D Scatter Plot of Training Data with Regression Plane"
        }
       }
      }
     },
     "metadata": {},
     "output_type": "display_data"
    }
   ],
   "source": [
    "# Create a meshgrid for TV and Radio\n",
    "tv_range = np.linspace(X['TV'].min(), X['TV'].max(), 10)\n",
    "radio_range = np.linspace(X['Radio'].min(), X['Radio'].max(), 10)\n",
    "tv_grid, radio_grid = np.meshgrid(tv_range, radio_range)\n",
    "\n",
    "# Predict sales for each point in the grid\n",
    "sales_grid = beta_0 + beta_1 * tv_grid + beta_2 * radio_grid\n",
    "\n",
    "# Create the scatter plot for the training data\n",
    "scatter = go.Scatter3d(\n",
    "    x=X_train['TV'], y=X_train['Radio'], z=y_train,\n",
    "    mode='markers',\n",
    "    marker=dict(size=5, color='blue'),\n",
    "    name='Training data'\n",
    ")\n",
    "\n",
    "# Create the surface plot for the regression plane\n",
    "surface = go.Surface(\n",
    "    x=tv_grid, y=radio_grid, z=sales_grid,\n",
    "    colorscale='Viridis',\n",
    "    opacity=0.5,\n",
    "    name='Regression plane'\n",
    ")\n",
    "\n",
    "# Create the figure and add the scatter and surface plots\n",
    "fig = go.Figure(data=[scatter, surface])\n",
    "\n",
    "# Update the layout\n",
    "fig.update_layout(\n",
    "    title='3D Scatter Plot of Training Data with Regression Plane',\n",
    "    scene=dict(\n",
    "        xaxis_title='TV Advertising Spend',\n",
    "        yaxis_title='Radio Advertising Spend',\n",
    "        zaxis_title='Sales'\n",
    "    )\n",
    ")\n",
    "\n",
    "# Show the figure\n",
    "fig.show()"
   ]
  },
  {
   "cell_type": "code",
   "execution_count": 25,
   "metadata": {},
   "outputs": [
    {
     "name": "stdout",
     "output_type": "stream",
     "text": [
      "Training MSE: 2.811634699498671\n",
      "Training R2: 0.9099642103419103\n"
     ]
    }
   ],
   "source": [
    "# Evaluate the model on the training set\n",
    "train_mse = mean_squared_error(y_train, y_train_pred)\n",
    "train_r2 = r2_score(y_train, y_train_pred)\n",
    "print(f\"Training MSE: {train_mse}\")\n",
    "print(f\"Training R2: {train_r2}\")"
   ]
  },
  {
   "cell_type": "code",
   "execution_count": 26,
   "metadata": {},
   "outputs": [],
   "source": [
    "# now we evaluate the model on the test set\n",
    "y_test_pred = multipleLR_model.predict(X_test)"
   ]
  },
  {
   "cell_type": "code",
   "execution_count": 27,
   "metadata": {},
   "outputs": [
    {
     "name": "stdout",
     "output_type": "stream",
     "text": [
      "Testing MSE: 2.545286905758097\n",
      "Testing R2: 0.8702269065022538\n"
     ]
    }
   ],
   "source": [
    "# Evaluate the model on the test set\n",
    "test_mse = mean_squared_error(y_test, y_test_pred)\n",
    "test_r2 = r2_score(y_test, y_test_pred)\n",
    "print(f\"Testing MSE: {test_mse}\")\n",
    "print(f\"Testing R2: {test_r2}\")"
   ]
  },
  {
   "cell_type": "markdown",
   "metadata": {},
   "source": [
    "Now we may see the plot with both train(blue) and test(red) data "
   ]
  },
  {
   "cell_type": "code",
   "execution_count": 28,
   "metadata": {},
   "outputs": [
    {
     "data": {
      "application/vnd.plotly.v1+json": {
       "config": {
        "plotlyServerURL": "https://plot.ly"
       },
       "data": [
        {
         "marker": {
          "color": "blue",
          "size": 5
         },
         "mode": "markers",
         "name": "Training data",
         "type": "scatter3d",
         "x": [
          213.4,
          151.5,
          205,
          142.9,
          134.3,
          80.2,
          239.8,
          88.3,
          19.4,
          225.8,
          136.2,
          25.1,
          38,
          172.5,
          109.8,
          240.1,
          232.1,
          66.1,
          218.4,
          234.5,
          23.8,
          67.8,
          296.4,
          141.3,
          175.1,
          220.5,
          76.4,
          253.8,
          191.1,
          287.6,
          100.4,
          228,
          125.7,
          74.7,
          57.5,
          262.7,
          262.9,
          237.4,
          227.2,
          199.8,
          228.3,
          290.7,
          276.9,
          199.8,
          239.3,
          73.4,
          284.3,
          147.3,
          224,
          198.9,
          276.7,
          13.2,
          11.7,
          280.2,
          39.5,
          265.6,
          27.5,
          280.7,
          78.2,
          163.3,
          213.5,
          293.6,
          18.7,
          75.5,
          166.8,
          44.7,
          109.8,
          8.7,
          266.9,
          206.9,
          149.8,
          19.6,
          36.9,
          199.1,
          265.2,
          165.6,
          140.3,
          230.1,
          5.4,
          17.9,
          237.4,
          286,
          93.9,
          292.9,
          25,
          97.5,
          26.8,
          281.4,
          69.2,
          43.1,
          255.4,
          239.9,
          209.6,
          7.3,
          240.1,
          102.7,
          243.2,
          137.9,
          18.8,
          17.2,
          76.4,
          139.5,
          261.3,
          66.9,
          48.3,
          177,
          28.6,
          180.8,
          222.4,
          193.7,
          59.6,
          131.7,
          8.4,
          13.1,
          4.1,
          0.7,
          76.3,
          250.9,
          273.7,
          96.2,
          210.8,
          53.5,
          90.4,
          104.6,
          283.6,
          95.7,
          204.1,
          31.5,
          182.6,
          289.7,
          156.6,
          107.4,
          43,
          248.4,
          116,
          110.7,
          187.9,
          139.3,
          62.3,
          8.6
         ],
         "y": [
          24.6,
          41.3,
          45.1,
          29.3,
          4.9,
          0,
          4.1,
          25.5,
          16,
          8.2,
          19.2,
          25.7,
          40.3,
          18.1,
          47.8,
          7.3,
          8.6,
          5.8,
          27.7,
          3.4,
          35.1,
          36.6,
          36.3,
          26.8,
          22.5,
          33.2,
          0.8,
          21.3,
          28.7,
          43,
          9.6,
          37.7,
          36.9,
          49.4,
          32.8,
          28.8,
          3.5,
          5.1,
          15.8,
          2.6,
          16.9,
          4.1,
          48.9,
          3.1,
          15.5,
          17,
          10.6,
          23.9,
          2.4,
          49.4,
          2.3,
          15.9,
          36.9,
          10.1,
          41.1,
          20,
          1.6,
          13.9,
          46.8,
          31.6,
          43,
          27.7,
          12.1,
          10.8,
          42,
          25.8,
          14.3,
          48.9,
          43.8,
          8.4,
          1.3,
          20.1,
          38.6,
          30.6,
          2.9,
          10,
          1.9,
          37.8,
          29.9,
          37.6,
          27.5,
          13.9,
          43.5,
          28.3,
          11,
          7.6,
          33,
          39.6,
          20.5,
          26.7,
          26.9,
          41.5,
          20.6,
          28.1,
          16.7,
          29.6,
          49,
          46.4,
          21.7,
          45.9,
          26.7,
          2.1,
          42.7,
          11.7,
          47,
          9.3,
          1.5,
          10.8,
          4.3,
          35.4,
          12,
          18.4,
          27.2,
          0.4,
          11.6,
          39.6,
          27.5,
          36.5,
          28.9,
          14.8,
          49.6,
          2,
          0.3,
          5.7,
          42,
          1.4,
          32.9,
          24.6,
          46.2,
          42.3,
          2.6,
          14,
          25.9,
          30.2,
          7.7,
          40.6,
          17.2,
          14.5,
          12.6,
          2.1
         ],
         "z": [
          17,
          16.5,
          22.6,
          15,
          14,
          11.9,
          17.3,
          12.9,
          6.6,
          18.4,
          13.2,
          8.5,
          10.9,
          16.4,
          16.7,
          18.2,
          18.4,
          12.6,
          18,
          16.9,
          9.2,
          12.5,
          23.8,
          15.5,
          16.1,
          20.1,
          9.4,
          17.6,
          17.3,
          26.2,
          10.7,
          21.5,
          15.9,
          14.7,
          11.8,
          20.2,
          17,
          17.5,
          19.8,
          15.6,
          20.5,
          17.8,
          27,
          16.4,
          20.7,
          10.9,
          20,
          14.6,
          16.6,
          23.7,
          16.8,
          5.6,
          7.3,
          19.8,
          10.8,
          17.4,
          6.9,
          16.1,
          14.6,
          16.9,
          21.7,
          20.7,
          6.7,
          11.9,
          19.6,
          10.1,
          12.4,
          7.2,
          25.4,
          17.9,
          10.1,
          7.6,
          10.8,
          18.3,
          17.7,
          17.6,
          10.3,
          22.1,
          5.3,
          8,
          18.9,
          20.9,
          15.3,
          21.4,
          7.2,
          13.7,
          8.8,
          24.4,
          11.3,
          10.1,
          19.8,
          23.2,
          20.9,
          5.5,
          20.9,
          14,
          25.4,
          15,
          7,
          12,
          11.8,
          10.3,
          24.2,
          9.7,
          11.6,
          14.8,
          7.3,
          17.9,
          16.7,
          19.2,
          9.7,
          12.9,
          5.7,
          5.3,
          3.2,
          1.6,
          12,
          22.2,
          20.8,
          12.3,
          23.8,
          8.1,
          12,
          10.4,
          25.5,
          11.9,
          19,
          11,
          21.2,
          25.4,
          15.5,
          11.5,
          9.6,
          20.2,
          11,
          16,
          19.7,
          13.4,
          9.7,
          4.8
         ]
        },
        {
         "colorscale": [
          [
           0,
           "#440154"
          ],
          [
           0.1111111111111111,
           "#482878"
          ],
          [
           0.2222222222222222,
           "#3e4989"
          ],
          [
           0.3333333333333333,
           "#31688e"
          ],
          [
           0.4444444444444444,
           "#26828e"
          ],
          [
           0.5555555555555556,
           "#1f9e89"
          ],
          [
           0.6666666666666666,
           "#35b779"
          ],
          [
           0.7777777777777778,
           "#6ece58"
          ],
          [
           0.8888888888888888,
           "#b5de2b"
          ],
          [
           1,
           "#fde725"
          ]
         ],
         "name": "Regression plane",
         "opacity": 0.5,
         "type": "surface",
         "x": [
          [
           0.7,
           33.55555555555556,
           66.41111111111111,
           99.26666666666667,
           132.1222222222222,
           164.97777777777776,
           197.83333333333331,
           230.68888888888887,
           263.5444444444444,
           296.4
          ],
          [
           0.7,
           33.55555555555556,
           66.41111111111111,
           99.26666666666667,
           132.1222222222222,
           164.97777777777776,
           197.83333333333331,
           230.68888888888887,
           263.5444444444444,
           296.4
          ],
          [
           0.7,
           33.55555555555556,
           66.41111111111111,
           99.26666666666667,
           132.1222222222222,
           164.97777777777776,
           197.83333333333331,
           230.68888888888887,
           263.5444444444444,
           296.4
          ],
          [
           0.7,
           33.55555555555556,
           66.41111111111111,
           99.26666666666667,
           132.1222222222222,
           164.97777777777776,
           197.83333333333331,
           230.68888888888887,
           263.5444444444444,
           296.4
          ],
          [
           0.7,
           33.55555555555556,
           66.41111111111111,
           99.26666666666667,
           132.1222222222222,
           164.97777777777776,
           197.83333333333331,
           230.68888888888887,
           263.5444444444444,
           296.4
          ],
          [
           0.7,
           33.55555555555556,
           66.41111111111111,
           99.26666666666667,
           132.1222222222222,
           164.97777777777776,
           197.83333333333331,
           230.68888888888887,
           263.5444444444444,
           296.4
          ],
          [
           0.7,
           33.55555555555556,
           66.41111111111111,
           99.26666666666667,
           132.1222222222222,
           164.97777777777776,
           197.83333333333331,
           230.68888888888887,
           263.5444444444444,
           296.4
          ],
          [
           0.7,
           33.55555555555556,
           66.41111111111111,
           99.26666666666667,
           132.1222222222222,
           164.97777777777776,
           197.83333333333331,
           230.68888888888887,
           263.5444444444444,
           296.4
          ],
          [
           0.7,
           33.55555555555556,
           66.41111111111111,
           99.26666666666667,
           132.1222222222222,
           164.97777777777776,
           197.83333333333331,
           230.68888888888887,
           263.5444444444444,
           296.4
          ],
          [
           0.7,
           33.55555555555556,
           66.41111111111111,
           99.26666666666667,
           132.1222222222222,
           164.97777777777776,
           197.83333333333331,
           230.68888888888887,
           263.5444444444444,
           296.4
          ]
         ],
         "y": [
          [
           0,
           0,
           0,
           0,
           0,
           0,
           0,
           0,
           0,
           0
          ],
          [
           5.511111111111111,
           5.511111111111111,
           5.511111111111111,
           5.511111111111111,
           5.511111111111111,
           5.511111111111111,
           5.511111111111111,
           5.511111111111111,
           5.511111111111111,
           5.511111111111111
          ],
          [
           11.022222222222222,
           11.022222222222222,
           11.022222222222222,
           11.022222222222222,
           11.022222222222222,
           11.022222222222222,
           11.022222222222222,
           11.022222222222222,
           11.022222222222222,
           11.022222222222222
          ],
          [
           16.53333333333333,
           16.53333333333333,
           16.53333333333333,
           16.53333333333333,
           16.53333333333333,
           16.53333333333333,
           16.53333333333333,
           16.53333333333333,
           16.53333333333333,
           16.53333333333333
          ],
          [
           22.044444444444444,
           22.044444444444444,
           22.044444444444444,
           22.044444444444444,
           22.044444444444444,
           22.044444444444444,
           22.044444444444444,
           22.044444444444444,
           22.044444444444444,
           22.044444444444444
          ],
          [
           27.555555555555557,
           27.555555555555557,
           27.555555555555557,
           27.555555555555557,
           27.555555555555557,
           27.555555555555557,
           27.555555555555557,
           27.555555555555557,
           27.555555555555557,
           27.555555555555557
          ],
          [
           33.06666666666666,
           33.06666666666666,
           33.06666666666666,
           33.06666666666666,
           33.06666666666666,
           33.06666666666666,
           33.06666666666666,
           33.06666666666666,
           33.06666666666666,
           33.06666666666666
          ],
          [
           38.577777777777776,
           38.577777777777776,
           38.577777777777776,
           38.577777777777776,
           38.577777777777776,
           38.577777777777776,
           38.577777777777776,
           38.577777777777776,
           38.577777777777776,
           38.577777777777776
          ],
          [
           44.08888888888889,
           44.08888888888889,
           44.08888888888889,
           44.08888888888889,
           44.08888888888889,
           44.08888888888889,
           44.08888888888889,
           44.08888888888889,
           44.08888888888889,
           44.08888888888889
          ],
          [
           49.6,
           49.6,
           49.6,
           49.6,
           49.6,
           49.6,
           49.6,
           49.6,
           49.6,
           49.6
          ]
         ],
         "z": [
          [
           4.462907879917935,
           6.236316923377181,
           8.009725966836427,
           9.783135010295673,
           11.55654405375492,
           13.329953097214165,
           15.103362140673411,
           16.876771184132657,
           18.650180227591903,
           20.42358927105115
          ],
          [
           5.089760021495951,
           6.863169064955197,
           8.636578108414444,
           10.40998715187369,
           12.183396195332936,
           13.956805238792182,
           15.730214282251428,
           17.503623325710674,
           19.27703236916992,
           21.050441412629166
          ],
          [
           5.716612163073966,
           7.490021206533212,
           9.263430249992458,
           11.036839293451704,
           12.81024833691095,
           14.583657380370196,
           16.357066423829444,
           18.13047546728869,
           19.903884510747936,
           21.677293554207182
          ],
          [
           6.343464304651982,
           8.116873348111229,
           9.890282391570475,
           11.66369143502972,
           13.437100478488967,
           15.210509521948213,
           16.983918565407457,
           18.757327608866703,
           20.53073665232595,
           22.304145695785195
          ],
          [
           6.970316446229997,
           8.743725489689243,
           10.51713453314849,
           12.290543576607735,
           14.063952620066981,
           15.837361663526227,
           17.610770706985473,
           19.38417975044472,
           21.157588793903965,
           22.93099783736321
          ],
          [
           7.597168587808014,
           9.37057763126726,
           11.143986674726506,
           12.917395718185752,
           14.690804761644998,
           16.464213805104244,
           18.23762284856349,
           20.011031892022736,
           21.78444093548198,
           23.557849978941228
          ],
          [
           8.224020729386028,
           9.997429772845274,
           11.77083881630452,
           13.544247859763766,
           15.317656903223012,
           17.09106594668226,
           18.864474990141506,
           20.637884033600752,
           22.411293077059998,
           24.184702120519244
          ],
          [
           8.850872870964045,
           10.62428191442329,
           12.397690957882537,
           14.171100001341783,
           15.944509044801029,
           17.717918088260276,
           19.491327131719522,
           21.26473617517877,
           23.038145218638014,
           24.81155426209726
          ],
          [
           9.47772501254206,
           11.251134056001305,
           13.024543099460551,
           14.797952142919797,
           16.571361186379043,
           18.34477022983829,
           20.118179273297535,
           21.89158831675678,
           23.664997360216027,
           25.438406403675273
          ],
          [
           10.104577154120076,
           11.877986197579322,
           13.651395241038568,
           15.424804284497814,
           17.19821332795706,
           18.971622371416306,
           20.74503141487555,
           22.518440458334798,
           24.291849501794044,
           26.06525854525329
          ]
         ]
        },
        {
         "marker": {
          "color": "red",
          "size": 5
         },
         "mode": "markers",
         "name": "Testing data",
         "type": "scatter3d",
         "x": [
          7.8,
          238.2,
          135.2,
          217.7,
          241.7,
          206.8,
          139.2,
          197.6,
          216.4,
          216.8,
          117.2,
          229.5,
          56.2,
          187.8,
          87.2,
          94.2,
          149.7,
          170.2,
          163.5,
          112.9,
          214.7,
          129.4,
          195.4,
          177,
          184.9,
          220.3,
          219.8,
          75.3,
          184.9,
          123.1,
          68.4,
          69,
          121,
          188.4,
          50,
          120.5,
          97.2,
          168.4,
          222.4,
          193.2,
          215.4,
          175.7,
          164.5,
          218.5,
          120.2,
          89.7,
          16.9,
          248.8,
          70.6,
          38.2,
          202.5,
          171.3,
          75.1,
          131.1,
          210.7,
          44.5,
          17.2,
          25.6,
          197.6,
          85.7
         ],
         "y": [
          38.9,
          34.3,
          41.7,
          33.5,
          38,
          5.2,
          14.3,
          3.5,
          41.7,
          43.9,
          14.7,
          32.3,
          5.7,
          21.1,
          11.8,
          4.9,
          35.6,
          7.8,
          36.8,
          17.4,
          24,
          5.7,
          47.7,
          33.4,
          21,
          49,
          33.5,
          20.3,
          43.9,
          34.6,
          44.5,
          9.3,
          8.4,
          18.1,
          11.6,
          28.5,
          1.5,
          7.1,
          3.4,
          18.4,
          23.6,
          15.4,
          20.9,
          5.4,
          19.6,
          9.9,
          43.7,
          27.1,
          16,
          3.7,
          22.3,
          39.7,
          35,
          42.8,
          29.5,
          39.3,
          4.1,
          39,
          23.3,
          35.8
         ],
         "z": [
          6.6,
          20.7,
          17.2,
          19.4,
          21.8,
          17.2,
          12.2,
          16.7,
          22.6,
          22.3,
          11.9,
          19.7,
          8.7,
          20.6,
          10.6,
          14,
          17.3,
          16.7,
          18,
          11.9,
          17.4,
          11,
          22.4,
          17.1,
          20.5,
          24.7,
          19.6,
          11.3,
          20.7,
          15.2,
          13.6,
          11.3,
          11.6,
          19.9,
          8.4,
          14.2,
          13.2,
          16.7,
          16.5,
          20.2,
          17.1,
          17.1,
          17.5,
          17.2,
          13.2,
          10.6,
          8.7,
          18.9,
          10.5,
          7.6,
          16.6,
          16,
          12.6,
          16,
          18.4,
          10.4,
          5.9,
          9.5,
          16.6,
          13.3
         ]
        }
       ],
       "layout": {
        "scene": {
         "xaxis": {
          "title": {
           "text": "TV Advertising Spend"
          }
         },
         "yaxis": {
          "title": {
           "text": "Radio Advertising Spend"
          }
         },
         "zaxis": {
          "title": {
           "text": "Sales"
          }
         }
        },
        "template": {
         "data": {
          "bar": [
           {
            "error_x": {
             "color": "#2a3f5f"
            },
            "error_y": {
             "color": "#2a3f5f"
            },
            "marker": {
             "line": {
              "color": "#E5ECF6",
              "width": 0.5
             },
             "pattern": {
              "fillmode": "overlay",
              "size": 10,
              "solidity": 0.2
             }
            },
            "type": "bar"
           }
          ],
          "barpolar": [
           {
            "marker": {
             "line": {
              "color": "#E5ECF6",
              "width": 0.5
             },
             "pattern": {
              "fillmode": "overlay",
              "size": 10,
              "solidity": 0.2
             }
            },
            "type": "barpolar"
           }
          ],
          "carpet": [
           {
            "aaxis": {
             "endlinecolor": "#2a3f5f",
             "gridcolor": "white",
             "linecolor": "white",
             "minorgridcolor": "white",
             "startlinecolor": "#2a3f5f"
            },
            "baxis": {
             "endlinecolor": "#2a3f5f",
             "gridcolor": "white",
             "linecolor": "white",
             "minorgridcolor": "white",
             "startlinecolor": "#2a3f5f"
            },
            "type": "carpet"
           }
          ],
          "choropleth": [
           {
            "colorbar": {
             "outlinewidth": 0,
             "ticks": ""
            },
            "type": "choropleth"
           }
          ],
          "contour": [
           {
            "colorbar": {
             "outlinewidth": 0,
             "ticks": ""
            },
            "colorscale": [
             [
              0,
              "#0d0887"
             ],
             [
              0.1111111111111111,
              "#46039f"
             ],
             [
              0.2222222222222222,
              "#7201a8"
             ],
             [
              0.3333333333333333,
              "#9c179e"
             ],
             [
              0.4444444444444444,
              "#bd3786"
             ],
             [
              0.5555555555555556,
              "#d8576b"
             ],
             [
              0.6666666666666666,
              "#ed7953"
             ],
             [
              0.7777777777777778,
              "#fb9f3a"
             ],
             [
              0.8888888888888888,
              "#fdca26"
             ],
             [
              1,
              "#f0f921"
             ]
            ],
            "type": "contour"
           }
          ],
          "contourcarpet": [
           {
            "colorbar": {
             "outlinewidth": 0,
             "ticks": ""
            },
            "type": "contourcarpet"
           }
          ],
          "heatmap": [
           {
            "colorbar": {
             "outlinewidth": 0,
             "ticks": ""
            },
            "colorscale": [
             [
              0,
              "#0d0887"
             ],
             [
              0.1111111111111111,
              "#46039f"
             ],
             [
              0.2222222222222222,
              "#7201a8"
             ],
             [
              0.3333333333333333,
              "#9c179e"
             ],
             [
              0.4444444444444444,
              "#bd3786"
             ],
             [
              0.5555555555555556,
              "#d8576b"
             ],
             [
              0.6666666666666666,
              "#ed7953"
             ],
             [
              0.7777777777777778,
              "#fb9f3a"
             ],
             [
              0.8888888888888888,
              "#fdca26"
             ],
             [
              1,
              "#f0f921"
             ]
            ],
            "type": "heatmap"
           }
          ],
          "heatmapgl": [
           {
            "colorbar": {
             "outlinewidth": 0,
             "ticks": ""
            },
            "colorscale": [
             [
              0,
              "#0d0887"
             ],
             [
              0.1111111111111111,
              "#46039f"
             ],
             [
              0.2222222222222222,
              "#7201a8"
             ],
             [
              0.3333333333333333,
              "#9c179e"
             ],
             [
              0.4444444444444444,
              "#bd3786"
             ],
             [
              0.5555555555555556,
              "#d8576b"
             ],
             [
              0.6666666666666666,
              "#ed7953"
             ],
             [
              0.7777777777777778,
              "#fb9f3a"
             ],
             [
              0.8888888888888888,
              "#fdca26"
             ],
             [
              1,
              "#f0f921"
             ]
            ],
            "type": "heatmapgl"
           }
          ],
          "histogram": [
           {
            "marker": {
             "pattern": {
              "fillmode": "overlay",
              "size": 10,
              "solidity": 0.2
             }
            },
            "type": "histogram"
           }
          ],
          "histogram2d": [
           {
            "colorbar": {
             "outlinewidth": 0,
             "ticks": ""
            },
            "colorscale": [
             [
              0,
              "#0d0887"
             ],
             [
              0.1111111111111111,
              "#46039f"
             ],
             [
              0.2222222222222222,
              "#7201a8"
             ],
             [
              0.3333333333333333,
              "#9c179e"
             ],
             [
              0.4444444444444444,
              "#bd3786"
             ],
             [
              0.5555555555555556,
              "#d8576b"
             ],
             [
              0.6666666666666666,
              "#ed7953"
             ],
             [
              0.7777777777777778,
              "#fb9f3a"
             ],
             [
              0.8888888888888888,
              "#fdca26"
             ],
             [
              1,
              "#f0f921"
             ]
            ],
            "type": "histogram2d"
           }
          ],
          "histogram2dcontour": [
           {
            "colorbar": {
             "outlinewidth": 0,
             "ticks": ""
            },
            "colorscale": [
             [
              0,
              "#0d0887"
             ],
             [
              0.1111111111111111,
              "#46039f"
             ],
             [
              0.2222222222222222,
              "#7201a8"
             ],
             [
              0.3333333333333333,
              "#9c179e"
             ],
             [
              0.4444444444444444,
              "#bd3786"
             ],
             [
              0.5555555555555556,
              "#d8576b"
             ],
             [
              0.6666666666666666,
              "#ed7953"
             ],
             [
              0.7777777777777778,
              "#fb9f3a"
             ],
             [
              0.8888888888888888,
              "#fdca26"
             ],
             [
              1,
              "#f0f921"
             ]
            ],
            "type": "histogram2dcontour"
           }
          ],
          "mesh3d": [
           {
            "colorbar": {
             "outlinewidth": 0,
             "ticks": ""
            },
            "type": "mesh3d"
           }
          ],
          "parcoords": [
           {
            "line": {
             "colorbar": {
              "outlinewidth": 0,
              "ticks": ""
             }
            },
            "type": "parcoords"
           }
          ],
          "pie": [
           {
            "automargin": true,
            "type": "pie"
           }
          ],
          "scatter": [
           {
            "fillpattern": {
             "fillmode": "overlay",
             "size": 10,
             "solidity": 0.2
            },
            "type": "scatter"
           }
          ],
          "scatter3d": [
           {
            "line": {
             "colorbar": {
              "outlinewidth": 0,
              "ticks": ""
             }
            },
            "marker": {
             "colorbar": {
              "outlinewidth": 0,
              "ticks": ""
             }
            },
            "type": "scatter3d"
           }
          ],
          "scattercarpet": [
           {
            "marker": {
             "colorbar": {
              "outlinewidth": 0,
              "ticks": ""
             }
            },
            "type": "scattercarpet"
           }
          ],
          "scattergeo": [
           {
            "marker": {
             "colorbar": {
              "outlinewidth": 0,
              "ticks": ""
             }
            },
            "type": "scattergeo"
           }
          ],
          "scattergl": [
           {
            "marker": {
             "colorbar": {
              "outlinewidth": 0,
              "ticks": ""
             }
            },
            "type": "scattergl"
           }
          ],
          "scattermapbox": [
           {
            "marker": {
             "colorbar": {
              "outlinewidth": 0,
              "ticks": ""
             }
            },
            "type": "scattermapbox"
           }
          ],
          "scatterpolar": [
           {
            "marker": {
             "colorbar": {
              "outlinewidth": 0,
              "ticks": ""
             }
            },
            "type": "scatterpolar"
           }
          ],
          "scatterpolargl": [
           {
            "marker": {
             "colorbar": {
              "outlinewidth": 0,
              "ticks": ""
             }
            },
            "type": "scatterpolargl"
           }
          ],
          "scatterternary": [
           {
            "marker": {
             "colorbar": {
              "outlinewidth": 0,
              "ticks": ""
             }
            },
            "type": "scatterternary"
           }
          ],
          "surface": [
           {
            "colorbar": {
             "outlinewidth": 0,
             "ticks": ""
            },
            "colorscale": [
             [
              0,
              "#0d0887"
             ],
             [
              0.1111111111111111,
              "#46039f"
             ],
             [
              0.2222222222222222,
              "#7201a8"
             ],
             [
              0.3333333333333333,
              "#9c179e"
             ],
             [
              0.4444444444444444,
              "#bd3786"
             ],
             [
              0.5555555555555556,
              "#d8576b"
             ],
             [
              0.6666666666666666,
              "#ed7953"
             ],
             [
              0.7777777777777778,
              "#fb9f3a"
             ],
             [
              0.8888888888888888,
              "#fdca26"
             ],
             [
              1,
              "#f0f921"
             ]
            ],
            "type": "surface"
           }
          ],
          "table": [
           {
            "cells": {
             "fill": {
              "color": "#EBF0F8"
             },
             "line": {
              "color": "white"
             }
            },
            "header": {
             "fill": {
              "color": "#C8D4E3"
             },
             "line": {
              "color": "white"
             }
            },
            "type": "table"
           }
          ]
         },
         "layout": {
          "annotationdefaults": {
           "arrowcolor": "#2a3f5f",
           "arrowhead": 0,
           "arrowwidth": 1
          },
          "autotypenumbers": "strict",
          "coloraxis": {
           "colorbar": {
            "outlinewidth": 0,
            "ticks": ""
           }
          },
          "colorscale": {
           "diverging": [
            [
             0,
             "#8e0152"
            ],
            [
             0.1,
             "#c51b7d"
            ],
            [
             0.2,
             "#de77ae"
            ],
            [
             0.3,
             "#f1b6da"
            ],
            [
             0.4,
             "#fde0ef"
            ],
            [
             0.5,
             "#f7f7f7"
            ],
            [
             0.6,
             "#e6f5d0"
            ],
            [
             0.7,
             "#b8e186"
            ],
            [
             0.8,
             "#7fbc41"
            ],
            [
             0.9,
             "#4d9221"
            ],
            [
             1,
             "#276419"
            ]
           ],
           "sequential": [
            [
             0,
             "#0d0887"
            ],
            [
             0.1111111111111111,
             "#46039f"
            ],
            [
             0.2222222222222222,
             "#7201a8"
            ],
            [
             0.3333333333333333,
             "#9c179e"
            ],
            [
             0.4444444444444444,
             "#bd3786"
            ],
            [
             0.5555555555555556,
             "#d8576b"
            ],
            [
             0.6666666666666666,
             "#ed7953"
            ],
            [
             0.7777777777777778,
             "#fb9f3a"
            ],
            [
             0.8888888888888888,
             "#fdca26"
            ],
            [
             1,
             "#f0f921"
            ]
           ],
           "sequentialminus": [
            [
             0,
             "#0d0887"
            ],
            [
             0.1111111111111111,
             "#46039f"
            ],
            [
             0.2222222222222222,
             "#7201a8"
            ],
            [
             0.3333333333333333,
             "#9c179e"
            ],
            [
             0.4444444444444444,
             "#bd3786"
            ],
            [
             0.5555555555555556,
             "#d8576b"
            ],
            [
             0.6666666666666666,
             "#ed7953"
            ],
            [
             0.7777777777777778,
             "#fb9f3a"
            ],
            [
             0.8888888888888888,
             "#fdca26"
            ],
            [
             1,
             "#f0f921"
            ]
           ]
          },
          "colorway": [
           "#636efa",
           "#EF553B",
           "#00cc96",
           "#ab63fa",
           "#FFA15A",
           "#19d3f3",
           "#FF6692",
           "#B6E880",
           "#FF97FF",
           "#FECB52"
          ],
          "font": {
           "color": "#2a3f5f"
          },
          "geo": {
           "bgcolor": "white",
           "lakecolor": "white",
           "landcolor": "#E5ECF6",
           "showlakes": true,
           "showland": true,
           "subunitcolor": "white"
          },
          "hoverlabel": {
           "align": "left"
          },
          "hovermode": "closest",
          "mapbox": {
           "style": "light"
          },
          "paper_bgcolor": "white",
          "plot_bgcolor": "#E5ECF6",
          "polar": {
           "angularaxis": {
            "gridcolor": "white",
            "linecolor": "white",
            "ticks": ""
           },
           "bgcolor": "#E5ECF6",
           "radialaxis": {
            "gridcolor": "white",
            "linecolor": "white",
            "ticks": ""
           }
          },
          "scene": {
           "xaxis": {
            "backgroundcolor": "#E5ECF6",
            "gridcolor": "white",
            "gridwidth": 2,
            "linecolor": "white",
            "showbackground": true,
            "ticks": "",
            "zerolinecolor": "white"
           },
           "yaxis": {
            "backgroundcolor": "#E5ECF6",
            "gridcolor": "white",
            "gridwidth": 2,
            "linecolor": "white",
            "showbackground": true,
            "ticks": "",
            "zerolinecolor": "white"
           },
           "zaxis": {
            "backgroundcolor": "#E5ECF6",
            "gridcolor": "white",
            "gridwidth": 2,
            "linecolor": "white",
            "showbackground": true,
            "ticks": "",
            "zerolinecolor": "white"
           }
          },
          "shapedefaults": {
           "line": {
            "color": "#2a3f5f"
           }
          },
          "ternary": {
           "aaxis": {
            "gridcolor": "white",
            "linecolor": "white",
            "ticks": ""
           },
           "baxis": {
            "gridcolor": "white",
            "linecolor": "white",
            "ticks": ""
           },
           "bgcolor": "#E5ECF6",
           "caxis": {
            "gridcolor": "white",
            "linecolor": "white",
            "ticks": ""
           }
          },
          "title": {
           "x": 0.05
          },
          "xaxis": {
           "automargin": true,
           "gridcolor": "white",
           "linecolor": "white",
           "ticks": "",
           "title": {
            "standoff": 15
           },
           "zerolinecolor": "white",
           "zerolinewidth": 2
          },
          "yaxis": {
           "automargin": true,
           "gridcolor": "white",
           "linecolor": "white",
           "ticks": "",
           "title": {
            "standoff": 15
           },
           "zerolinecolor": "white",
           "zerolinewidth": 2
          }
         }
        },
        "title": {
         "text": "3D Scatter Plot of Training and Testing Data with Regression Plane"
        }
       }
      }
     },
     "metadata": {},
     "output_type": "display_data"
    }
   ],
   "source": [
    "# Create a 3D scatter plot for the test data\n",
    "test_scatter = go.Scatter3d(\n",
    "    x=X_test['TV'], y=X_test['Radio'], z=y_test,\n",
    "    mode='markers',\n",
    "    marker=dict(size=5, color='red'),\n",
    "    name='Testing data'\n",
    ")\n",
    "\n",
    "# Add the test scatter plot to the existing figure\n",
    "fig.add_trace(test_scatter)\n",
    "\n",
    "# Update the layout\n",
    "fig.update_layout(\n",
    "    title='3D Scatter Plot of Training and Testing Data with Regression Plane',\n",
    "    scene=dict(\n",
    "        xaxis_title='TV Advertising Spend',\n",
    "        yaxis_title='Radio Advertising Spend',\n",
    "        zaxis_title='Sales'\n",
    "    )\n",
    ")\n",
    "\n",
    "# Show the figure\n",
    "fig.show()"
   ]
  },
  {
   "cell_type": "markdown",
   "metadata": {},
   "source": [
    "------\n",
    "\n",
    "## Task for you:\n",
    "Create both simple linear regression and multiple linear regression models on the dataset from below.<br>\n",
    "Take into consideration only 2 predictors - X variables.<br> \n",
    "Make sure you have downloaded it from the github repo, or do this directly from the kaggle: https://www.kaggle.com/datasets/camnugent/california-housing-prices (to download any dataset from kaggle you must have a profile created)<br>\n",
    "Visualize the data points and regression line/plane and evaluate the models.<br>\n",
    "You may reuse the code used above."
   ]
  },
  {
   "cell_type": "code",
   "execution_count": 29,
   "metadata": {},
   "outputs": [
    {
     "data": {
      "text/html": [
       "<div>\n",
       "<style scoped>\n",
       "    .dataframe tbody tr th:only-of-type {\n",
       "        vertical-align: middle;\n",
       "    }\n",
       "\n",
       "    .dataframe tbody tr th {\n",
       "        vertical-align: top;\n",
       "    }\n",
       "\n",
       "    .dataframe thead th {\n",
       "        text-align: right;\n",
       "    }\n",
       "</style>\n",
       "<table border=\"1\" class=\"dataframe\">\n",
       "  <thead>\n",
       "    <tr style=\"text-align: right;\">\n",
       "      <th></th>\n",
       "      <th>longitude</th>\n",
       "      <th>latitude</th>\n",
       "      <th>housing_median_age</th>\n",
       "      <th>total_rooms</th>\n",
       "      <th>total_bedrooms</th>\n",
       "      <th>population</th>\n",
       "      <th>households</th>\n",
       "      <th>median_income</th>\n",
       "      <th>median_house_value</th>\n",
       "    </tr>\n",
       "  </thead>\n",
       "  <tbody>\n",
       "    <tr>\n",
       "      <th>0</th>\n",
       "      <td>-122.23</td>\n",
       "      <td>37.88</td>\n",
       "      <td>41.0</td>\n",
       "      <td>880.0</td>\n",
       "      <td>129.0</td>\n",
       "      <td>322.0</td>\n",
       "      <td>126.0</td>\n",
       "      <td>8.3252</td>\n",
       "      <td>452600.0</td>\n",
       "    </tr>\n",
       "    <tr>\n",
       "      <th>1</th>\n",
       "      <td>-122.22</td>\n",
       "      <td>37.86</td>\n",
       "      <td>21.0</td>\n",
       "      <td>7099.0</td>\n",
       "      <td>1106.0</td>\n",
       "      <td>2401.0</td>\n",
       "      <td>1138.0</td>\n",
       "      <td>8.3014</td>\n",
       "      <td>358500.0</td>\n",
       "    </tr>\n",
       "    <tr>\n",
       "      <th>2</th>\n",
       "      <td>-122.24</td>\n",
       "      <td>37.85</td>\n",
       "      <td>52.0</td>\n",
       "      <td>1467.0</td>\n",
       "      <td>190.0</td>\n",
       "      <td>496.0</td>\n",
       "      <td>177.0</td>\n",
       "      <td>7.2574</td>\n",
       "      <td>352100.0</td>\n",
       "    </tr>\n",
       "    <tr>\n",
       "      <th>3</th>\n",
       "      <td>-122.25</td>\n",
       "      <td>37.85</td>\n",
       "      <td>52.0</td>\n",
       "      <td>1274.0</td>\n",
       "      <td>235.0</td>\n",
       "      <td>558.0</td>\n",
       "      <td>219.0</td>\n",
       "      <td>5.6431</td>\n",
       "      <td>341300.0</td>\n",
       "    </tr>\n",
       "    <tr>\n",
       "      <th>4</th>\n",
       "      <td>-122.25</td>\n",
       "      <td>37.85</td>\n",
       "      <td>52.0</td>\n",
       "      <td>1627.0</td>\n",
       "      <td>280.0</td>\n",
       "      <td>565.0</td>\n",
       "      <td>259.0</td>\n",
       "      <td>3.8462</td>\n",
       "      <td>342200.0</td>\n",
       "    </tr>\n",
       "  </tbody>\n",
       "</table>\n",
       "</div>"
      ],
      "text/plain": [
       "   longitude  latitude  housing_median_age  total_rooms  total_bedrooms  \\\n",
       "0    -122.23     37.88                41.0        880.0           129.0   \n",
       "1    -122.22     37.86                21.0       7099.0          1106.0   \n",
       "2    -122.24     37.85                52.0       1467.0           190.0   \n",
       "3    -122.25     37.85                52.0       1274.0           235.0   \n",
       "4    -122.25     37.85                52.0       1627.0           280.0   \n",
       "\n",
       "   population  households  median_income  median_house_value  \n",
       "0       322.0       126.0         8.3252            452600.0  \n",
       "1      2401.0      1138.0         8.3014            358500.0  \n",
       "2       496.0       177.0         7.2574            352100.0  \n",
       "3       558.0       219.0         5.6431            341300.0  \n",
       "4       565.0       259.0         3.8462            342200.0  "
      ]
     },
     "execution_count": 29,
     "metadata": {},
     "output_type": "execute_result"
    }
   ],
   "source": [
    "housing_data = pd.read_csv(\"housing.csv\")\n",
    "housing_data = housing_data.drop('ocean_proximity', axis=1)\n",
    "housing_data.head()"
   ]
  },
  {
   "cell_type": "code",
   "execution_count": 30,
   "metadata": {},
   "outputs": [
    {
     "data": {
      "text/plain": [
       "(20640, 9)"
      ]
     },
     "execution_count": 30,
     "metadata": {},
     "output_type": "execute_result"
    }
   ],
   "source": [
    "housing_data.shape"
   ]
  },
  {
   "cell_type": "code",
   "execution_count": 31,
   "metadata": {},
   "outputs": [
    {
     "name": "stdout",
     "output_type": "stream",
     "text": [
      "longitude               0\n",
      "latitude                0\n",
      "housing_median_age      0\n",
      "total_rooms             0\n",
      "total_bedrooms        207\n",
      "population              0\n",
      "households              0\n",
      "median_income           0\n",
      "median_house_value      0\n",
      "dtype: int64\n"
     ]
    }
   ],
   "source": [
    "# Check for missing or NaN values in the housing_data DataFrame\n",
    "missing_values = housing_data.isnull().sum()\n",
    "print(missing_values)"
   ]
  },
  {
   "cell_type": "code",
   "execution_count": 32,
   "metadata": {},
   "outputs": [
    {
     "data": {
      "text/html": [
       "<div>\n",
       "<style scoped>\n",
       "    .dataframe tbody tr th:only-of-type {\n",
       "        vertical-align: middle;\n",
       "    }\n",
       "\n",
       "    .dataframe tbody tr th {\n",
       "        vertical-align: top;\n",
       "    }\n",
       "\n",
       "    .dataframe thead th {\n",
       "        text-align: right;\n",
       "    }\n",
       "</style>\n",
       "<table border=\"1\" class=\"dataframe\">\n",
       "  <thead>\n",
       "    <tr style=\"text-align: right;\">\n",
       "      <th></th>\n",
       "      <th>longitude</th>\n",
       "      <th>latitude</th>\n",
       "      <th>housing_median_age</th>\n",
       "      <th>total_rooms</th>\n",
       "      <th>total_bedrooms</th>\n",
       "      <th>population</th>\n",
       "      <th>households</th>\n",
       "      <th>median_income</th>\n",
       "      <th>median_house_value</th>\n",
       "    </tr>\n",
       "  </thead>\n",
       "  <tbody>\n",
       "    <tr>\n",
       "      <th>0</th>\n",
       "      <td>-122.23</td>\n",
       "      <td>37.88</td>\n",
       "      <td>41.0</td>\n",
       "      <td>880.0</td>\n",
       "      <td>129.0</td>\n",
       "      <td>322.0</td>\n",
       "      <td>126.0</td>\n",
       "      <td>8.3252</td>\n",
       "      <td>452600.0</td>\n",
       "    </tr>\n",
       "    <tr>\n",
       "      <th>1</th>\n",
       "      <td>-122.22</td>\n",
       "      <td>37.86</td>\n",
       "      <td>21.0</td>\n",
       "      <td>7099.0</td>\n",
       "      <td>1106.0</td>\n",
       "      <td>2401.0</td>\n",
       "      <td>1138.0</td>\n",
       "      <td>8.3014</td>\n",
       "      <td>358500.0</td>\n",
       "    </tr>\n",
       "    <tr>\n",
       "      <th>2</th>\n",
       "      <td>-122.24</td>\n",
       "      <td>37.85</td>\n",
       "      <td>52.0</td>\n",
       "      <td>1467.0</td>\n",
       "      <td>190.0</td>\n",
       "      <td>496.0</td>\n",
       "      <td>177.0</td>\n",
       "      <td>7.2574</td>\n",
       "      <td>352100.0</td>\n",
       "    </tr>\n",
       "    <tr>\n",
       "      <th>3</th>\n",
       "      <td>-122.25</td>\n",
       "      <td>37.85</td>\n",
       "      <td>52.0</td>\n",
       "      <td>1274.0</td>\n",
       "      <td>235.0</td>\n",
       "      <td>558.0</td>\n",
       "      <td>219.0</td>\n",
       "      <td>5.6431</td>\n",
       "      <td>341300.0</td>\n",
       "    </tr>\n",
       "    <tr>\n",
       "      <th>4</th>\n",
       "      <td>-122.25</td>\n",
       "      <td>37.85</td>\n",
       "      <td>52.0</td>\n",
       "      <td>1627.0</td>\n",
       "      <td>280.0</td>\n",
       "      <td>565.0</td>\n",
       "      <td>259.0</td>\n",
       "      <td>3.8462</td>\n",
       "      <td>342200.0</td>\n",
       "    </tr>\n",
       "  </tbody>\n",
       "</table>\n",
       "</div>"
      ],
      "text/plain": [
       "   longitude  latitude  housing_median_age  total_rooms  total_bedrooms  \\\n",
       "0    -122.23     37.88                41.0        880.0           129.0   \n",
       "1    -122.22     37.86                21.0       7099.0          1106.0   \n",
       "2    -122.24     37.85                52.0       1467.0           190.0   \n",
       "3    -122.25     37.85                52.0       1274.0           235.0   \n",
       "4    -122.25     37.85                52.0       1627.0           280.0   \n",
       "\n",
       "   population  households  median_income  median_house_value  \n",
       "0       322.0       126.0         8.3252            452600.0  \n",
       "1      2401.0      1138.0         8.3014            358500.0  \n",
       "2       496.0       177.0         7.2574            352100.0  \n",
       "3       558.0       219.0         5.6431            341300.0  \n",
       "4       565.0       259.0         3.8462            342200.0  "
      ]
     },
     "execution_count": 32,
     "metadata": {},
     "output_type": "execute_result"
    }
   ],
   "source": [
    "housing_data = housing_data.dropna()\n",
    "housing_data.head()"
   ]
  },
  {
   "cell_type": "code",
   "execution_count": 33,
   "metadata": {},
   "outputs": [
    {
     "data": {
      "text/plain": [
       "(20433, 9)"
      ]
     },
     "execution_count": 33,
     "metadata": {},
     "output_type": "execute_result"
    }
   ],
   "source": [
    "housing_data.shape"
   ]
  },
  {
   "cell_type": "code",
   "execution_count": 34,
   "metadata": {},
   "outputs": [
    {
     "name": "stdout",
     "output_type": "stream",
     "text": [
      "longitude             0\n",
      "latitude              0\n",
      "housing_median_age    0\n",
      "total_rooms           0\n",
      "total_bedrooms        0\n",
      "population            0\n",
      "households            0\n",
      "median_income         0\n",
      "median_house_value    0\n",
      "dtype: int64\n"
     ]
    }
   ],
   "source": [
    "missing_values = housing_data.isnull().sum()\n",
    "print(missing_values)"
   ]
  },
  {
   "cell_type": "markdown",
   "metadata": {},
   "source": [
    "After this really simple preprocessing- ensuring no missing values you may approach the actual task :)"
   ]
  },
  {
   "cell_type": "code",
   "execution_count": 35,
   "metadata": {},
   "outputs": [],
   "source": [
    "#TODO"
   ]
  },
  {
   "cell_type": "markdown",
   "metadata": {},
   "source": [
    "----\n",
    "\n",
    "If you have any questions or need further clarification, please contact me via Discord or Messenger."
   ]
  }
 ],
 "metadata": {
  "kernelspec": {
   "display_name": "Python 3",
   "language": "python",
   "name": "python3"
  },
  "language_info": {
   "codemirror_mode": {
    "name": "ipython",
    "version": 3
   },
   "file_extension": ".py",
   "mimetype": "text/x-python",
   "name": "python",
   "nbconvert_exporter": "python",
   "pygments_lexer": "ipython3",
   "version": "3.10.7"
  }
 },
 "nbformat": 4,
 "nbformat_minor": 2
}
